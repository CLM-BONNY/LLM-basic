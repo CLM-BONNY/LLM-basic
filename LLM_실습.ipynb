{
  "nbformat": 4,
  "nbformat_minor": 0,
  "metadata": {
    "colab": {
      "provenance": []
    },
    "kernelspec": {
      "name": "python3",
      "display_name": "Python 3"
    },
    "language_info": {
      "name": "python"
    }
  },
  "cells": [
    {
      "cell_type": "markdown",
      "source": [
        "# 필수 라이브러리 설치 및 로드하기(+ API KEY 설정)"
      ],
      "metadata": {
        "id": "bk3OhIsDygIz"
      }
    },
    {
      "cell_type": "code",
      "source": [
        "!pip install langchain\n",
        "!pip install openai"
      ],
      "metadata": {
        "colab": {
          "base_uri": "https://localhost:8080/"
        },
        "id": "A3Zcba56yteO",
        "outputId": "1d490858-97ff-4736-e86e-988a015fe8a7"
      },
      "execution_count": 1,
      "outputs": [
        {
          "output_type": "stream",
          "name": "stdout",
          "text": [
            "Collecting langchain\n",
            "  Downloading langchain-0.1.16-py3-none-any.whl (817 kB)\n",
            "\u001b[2K     \u001b[90m━━━━━━━━━━━━━━━━━━━━━━━━━━━━━━━━━━━━━━━━\u001b[0m \u001b[32m817.7/817.7 kB\u001b[0m \u001b[31m4.9 MB/s\u001b[0m eta \u001b[36m0:00:00\u001b[0m\n",
            "\u001b[?25hRequirement already satisfied: PyYAML>=5.3 in /usr/local/lib/python3.10/dist-packages (from langchain) (6.0.1)\n",
            "Requirement already satisfied: SQLAlchemy<3,>=1.4 in /usr/local/lib/python3.10/dist-packages (from langchain) (2.0.29)\n",
            "Requirement already satisfied: aiohttp<4.0.0,>=3.8.3 in /usr/local/lib/python3.10/dist-packages (from langchain) (3.9.5)\n",
            "Requirement already satisfied: async-timeout<5.0.0,>=4.0.0 in /usr/local/lib/python3.10/dist-packages (from langchain) (4.0.3)\n",
            "Collecting dataclasses-json<0.7,>=0.5.7 (from langchain)\n",
            "  Downloading dataclasses_json-0.6.5-py3-none-any.whl (28 kB)\n",
            "Collecting jsonpatch<2.0,>=1.33 (from langchain)\n",
            "  Downloading jsonpatch-1.33-py2.py3-none-any.whl (12 kB)\n",
            "Collecting langchain-community<0.1,>=0.0.32 (from langchain)\n",
            "  Downloading langchain_community-0.0.34-py3-none-any.whl (1.9 MB)\n",
            "\u001b[2K     \u001b[90m━━━━━━━━━━━━━━━━━━━━━━━━━━━━━━━━━━━━━━━━\u001b[0m \u001b[32m1.9/1.9 MB\u001b[0m \u001b[31m10.5 MB/s\u001b[0m eta \u001b[36m0:00:00\u001b[0m\n",
            "\u001b[?25hCollecting langchain-core<0.2.0,>=0.1.42 (from langchain)\n",
            "  Downloading langchain_core-0.1.46-py3-none-any.whl (299 kB)\n",
            "\u001b[2K     \u001b[90m━━━━━━━━━━━━━━━━━━━━━━━━━━━━━━━━━━━━━━━━\u001b[0m \u001b[32m299.3/299.3 kB\u001b[0m \u001b[31m10.9 MB/s\u001b[0m eta \u001b[36m0:00:00\u001b[0m\n",
            "\u001b[?25hCollecting langchain-text-splitters<0.1,>=0.0.1 (from langchain)\n",
            "  Downloading langchain_text_splitters-0.0.1-py3-none-any.whl (21 kB)\n",
            "Collecting langsmith<0.2.0,>=0.1.17 (from langchain)\n",
            "  Downloading langsmith-0.1.51-py3-none-any.whl (115 kB)\n",
            "\u001b[2K     \u001b[90m━━━━━━━━━━━━━━━━━━━━━━━━━━━━━━━━━━━━━━━━\u001b[0m \u001b[32m116.0/116.0 kB\u001b[0m \u001b[31m9.7 MB/s\u001b[0m eta \u001b[36m0:00:00\u001b[0m\n",
            "\u001b[?25hRequirement already satisfied: numpy<2,>=1 in /usr/local/lib/python3.10/dist-packages (from langchain) (1.25.2)\n",
            "Requirement already satisfied: pydantic<3,>=1 in /usr/local/lib/python3.10/dist-packages (from langchain) (2.7.0)\n",
            "Requirement already satisfied: requests<3,>=2 in /usr/local/lib/python3.10/dist-packages (from langchain) (2.31.0)\n",
            "Requirement already satisfied: tenacity<9.0.0,>=8.1.0 in /usr/local/lib/python3.10/dist-packages (from langchain) (8.2.3)\n",
            "Requirement already satisfied: aiosignal>=1.1.2 in /usr/local/lib/python3.10/dist-packages (from aiohttp<4.0.0,>=3.8.3->langchain) (1.3.1)\n",
            "Requirement already satisfied: attrs>=17.3.0 in /usr/local/lib/python3.10/dist-packages (from aiohttp<4.0.0,>=3.8.3->langchain) (23.2.0)\n",
            "Requirement already satisfied: frozenlist>=1.1.1 in /usr/local/lib/python3.10/dist-packages (from aiohttp<4.0.0,>=3.8.3->langchain) (1.4.1)\n",
            "Requirement already satisfied: multidict<7.0,>=4.5 in /usr/local/lib/python3.10/dist-packages (from aiohttp<4.0.0,>=3.8.3->langchain) (6.0.5)\n",
            "Requirement already satisfied: yarl<2.0,>=1.0 in /usr/local/lib/python3.10/dist-packages (from aiohttp<4.0.0,>=3.8.3->langchain) (1.9.4)\n",
            "Collecting marshmallow<4.0.0,>=3.18.0 (from dataclasses-json<0.7,>=0.5.7->langchain)\n",
            "  Downloading marshmallow-3.21.1-py3-none-any.whl (49 kB)\n",
            "\u001b[2K     \u001b[90m━━━━━━━━━━━━━━━━━━━━━━━━━━━━━━━━━━━━━━━━\u001b[0m \u001b[32m49.4/49.4 kB\u001b[0m \u001b[31m4.1 MB/s\u001b[0m eta \u001b[36m0:00:00\u001b[0m\n",
            "\u001b[?25hCollecting typing-inspect<1,>=0.4.0 (from dataclasses-json<0.7,>=0.5.7->langchain)\n",
            "  Downloading typing_inspect-0.9.0-py3-none-any.whl (8.8 kB)\n",
            "Collecting jsonpointer>=1.9 (from jsonpatch<2.0,>=1.33->langchain)\n",
            "  Downloading jsonpointer-2.4-py2.py3-none-any.whl (7.8 kB)\n",
            "Collecting packaging<24.0,>=23.2 (from langchain-core<0.2.0,>=0.1.42->langchain)\n",
            "  Downloading packaging-23.2-py3-none-any.whl (53 kB)\n",
            "\u001b[2K     \u001b[90m━━━━━━━━━━━━━━━━━━━━━━━━━━━━━━━━━━━━━━━━\u001b[0m \u001b[32m53.0/53.0 kB\u001b[0m \u001b[31m1.8 MB/s\u001b[0m eta \u001b[36m0:00:00\u001b[0m\n",
            "\u001b[?25hCollecting orjson<4.0.0,>=3.9.14 (from langsmith<0.2.0,>=0.1.17->langchain)\n",
            "  Downloading orjson-3.10.1-cp310-cp310-manylinux_2_17_x86_64.manylinux2014_x86_64.whl (141 kB)\n",
            "\u001b[2K     \u001b[90m━━━━━━━━━━━━━━━━━━━━━━━━━━━━━━━━━━━━━━━━\u001b[0m \u001b[32m141.1/141.1 kB\u001b[0m \u001b[31m1.8 MB/s\u001b[0m eta \u001b[36m0:00:00\u001b[0m\n",
            "\u001b[?25hRequirement already satisfied: annotated-types>=0.4.0 in /usr/local/lib/python3.10/dist-packages (from pydantic<3,>=1->langchain) (0.6.0)\n",
            "Requirement already satisfied: pydantic-core==2.18.1 in /usr/local/lib/python3.10/dist-packages (from pydantic<3,>=1->langchain) (2.18.1)\n",
            "Requirement already satisfied: typing-extensions>=4.6.1 in /usr/local/lib/python3.10/dist-packages (from pydantic<3,>=1->langchain) (4.11.0)\n",
            "Requirement already satisfied: charset-normalizer<4,>=2 in /usr/local/lib/python3.10/dist-packages (from requests<3,>=2->langchain) (3.3.2)\n",
            "Requirement already satisfied: idna<4,>=2.5 in /usr/local/lib/python3.10/dist-packages (from requests<3,>=2->langchain) (3.7)\n",
            "Requirement already satisfied: urllib3<3,>=1.21.1 in /usr/local/lib/python3.10/dist-packages (from requests<3,>=2->langchain) (2.0.7)\n",
            "Requirement already satisfied: certifi>=2017.4.17 in /usr/local/lib/python3.10/dist-packages (from requests<3,>=2->langchain) (2024.2.2)\n",
            "Requirement already satisfied: greenlet!=0.4.17 in /usr/local/lib/python3.10/dist-packages (from SQLAlchemy<3,>=1.4->langchain) (3.0.3)\n",
            "Collecting mypy-extensions>=0.3.0 (from typing-inspect<1,>=0.4.0->dataclasses-json<0.7,>=0.5.7->langchain)\n",
            "  Downloading mypy_extensions-1.0.0-py3-none-any.whl (4.7 kB)\n",
            "Installing collected packages: packaging, orjson, mypy-extensions, jsonpointer, typing-inspect, marshmallow, jsonpatch, langsmith, dataclasses-json, langchain-core, langchain-text-splitters, langchain-community, langchain\n",
            "  Attempting uninstall: packaging\n",
            "    Found existing installation: packaging 24.0\n",
            "    Uninstalling packaging-24.0:\n",
            "      Successfully uninstalled packaging-24.0\n",
            "Successfully installed dataclasses-json-0.6.5 jsonpatch-1.33 jsonpointer-2.4 langchain-0.1.16 langchain-community-0.0.34 langchain-core-0.1.46 langchain-text-splitters-0.0.1 langsmith-0.1.51 marshmallow-3.21.1 mypy-extensions-1.0.0 orjson-3.10.1 packaging-23.2 typing-inspect-0.9.0\n",
            "Collecting openai\n",
            "  Downloading openai-1.23.6-py3-none-any.whl (311 kB)\n",
            "\u001b[2K     \u001b[90m━━━━━━━━━━━━━━━━━━━━━━━━━━━━━━━━━━━━━━━━\u001b[0m \u001b[32m311.6/311.6 kB\u001b[0m \u001b[31m2.8 MB/s\u001b[0m eta \u001b[36m0:00:00\u001b[0m\n",
            "\u001b[?25hRequirement already satisfied: anyio<5,>=3.5.0 in /usr/local/lib/python3.10/dist-packages (from openai) (3.7.1)\n",
            "Requirement already satisfied: distro<2,>=1.7.0 in /usr/lib/python3/dist-packages (from openai) (1.7.0)\n",
            "Collecting httpx<1,>=0.23.0 (from openai)\n",
            "  Downloading httpx-0.27.0-py3-none-any.whl (75 kB)\n",
            "\u001b[2K     \u001b[90m━━━━━━━━━━━━━━━━━━━━━━━━━━━━━━━━━━━━━━━━\u001b[0m \u001b[32m75.6/75.6 kB\u001b[0m \u001b[31m8.7 MB/s\u001b[0m eta \u001b[36m0:00:00\u001b[0m\n",
            "\u001b[?25hRequirement already satisfied: pydantic<3,>=1.9.0 in /usr/local/lib/python3.10/dist-packages (from openai) (2.7.0)\n",
            "Requirement already satisfied: sniffio in /usr/local/lib/python3.10/dist-packages (from openai) (1.3.1)\n",
            "Requirement already satisfied: tqdm>4 in /usr/local/lib/python3.10/dist-packages (from openai) (4.66.2)\n",
            "Requirement already satisfied: typing-extensions<5,>=4.7 in /usr/local/lib/python3.10/dist-packages (from openai) (4.11.0)\n",
            "Requirement already satisfied: idna>=2.8 in /usr/local/lib/python3.10/dist-packages (from anyio<5,>=3.5.0->openai) (3.7)\n",
            "Requirement already satisfied: exceptiongroup in /usr/local/lib/python3.10/dist-packages (from anyio<5,>=3.5.0->openai) (1.2.1)\n",
            "Requirement already satisfied: certifi in /usr/local/lib/python3.10/dist-packages (from httpx<1,>=0.23.0->openai) (2024.2.2)\n",
            "Collecting httpcore==1.* (from httpx<1,>=0.23.0->openai)\n",
            "  Downloading httpcore-1.0.5-py3-none-any.whl (77 kB)\n",
            "\u001b[2K     \u001b[90m━━━━━━━━━━━━━━━━━━━━━━━━━━━━━━━━━━━━━━━━\u001b[0m \u001b[32m77.9/77.9 kB\u001b[0m \u001b[31m8.8 MB/s\u001b[0m eta \u001b[36m0:00:00\u001b[0m\n",
            "\u001b[?25hCollecting h11<0.15,>=0.13 (from httpcore==1.*->httpx<1,>=0.23.0->openai)\n",
            "  Downloading h11-0.14.0-py3-none-any.whl (58 kB)\n",
            "\u001b[2K     \u001b[90m━━━━━━━━━━━━━━━━━━━━━━━━━━━━━━━━━━━━━━━━\u001b[0m \u001b[32m58.3/58.3 kB\u001b[0m \u001b[31m7.9 MB/s\u001b[0m eta \u001b[36m0:00:00\u001b[0m\n",
            "\u001b[?25hRequirement already satisfied: annotated-types>=0.4.0 in /usr/local/lib/python3.10/dist-packages (from pydantic<3,>=1.9.0->openai) (0.6.0)\n",
            "Requirement already satisfied: pydantic-core==2.18.1 in /usr/local/lib/python3.10/dist-packages (from pydantic<3,>=1.9.0->openai) (2.18.1)\n",
            "Installing collected packages: h11, httpcore, httpx, openai\n",
            "Successfully installed h11-0.14.0 httpcore-1.0.5 httpx-0.27.0 openai-1.23.6\n"
          ]
        }
      ]
    },
    {
      "cell_type": "code",
      "source": [
        "# API KEY 저장을 위한 os 라이브러리 호출\n",
        "import os\n",
        "\n",
        "# OPENAI API Key 저장\n",
        "os.environ['OPENAI_API_KEY'] = 'api_key'"
      ],
      "metadata": {
        "id": "B0vCFrX-_Udz"
      },
      "execution_count": 2,
      "outputs": []
    },
    {
      "cell_type": "markdown",
      "source": [
        "# (1) API를 통해 ChatGPT와 대화해보기"
      ],
      "metadata": {
        "id": "tpY1EVkABn9T"
      }
    },
    {
      "cell_type": "code",
      "source": [
        "from langchain.chat_models import ChatOpenAI\n",
        "\n",
        "chatgpt = ChatOpenAI(model_name='gpt-3.5-turbo')\n",
        "answer = chatgpt.predict('파이썬에 대해 설명해줘. 대답은 한글로 해줘.')\n",
        "\n",
        "print(answer)"
      ],
      "metadata": {
        "colab": {
          "base_uri": "https://localhost:8080/"
        },
        "id": "bZ2nZNEzBe52",
        "outputId": "493ffb55-3554-4201-d2c1-be0def4770c0"
      },
      "execution_count": 3,
      "outputs": [
        {
          "output_type": "stream",
          "name": "stderr",
          "text": [
            "/usr/local/lib/python3.10/dist-packages/langchain_core/_api/deprecation.py:119: LangChainDeprecationWarning: The class `ChatOpenAI` was deprecated in LangChain 0.0.10 and will be removed in 0.2.0. An updated version of the class exists in the langchain-openai package and should be used instead. To use it run `pip install -U langchain-openai` and import as `from langchain_openai import ChatOpenAI`.\n",
            "  warn_deprecated(\n",
            "/usr/local/lib/python3.10/dist-packages/langchain_core/_api/deprecation.py:119: LangChainDeprecationWarning: The method `BaseChatModel.predict` was deprecated in langchain-core 0.1.7 and will be removed in 0.2.0. Use invoke instead.\n",
            "  warn_deprecated(\n"
          ]
        },
        {
          "output_type": "stream",
          "name": "stdout",
          "text": [
            "파이썬은 인기 있는 프로그래밍 언어 중 하나로, 간단하고 읽기 쉬운 문법을 가지고 있습니다. 다양한 용도로 사용되며, 웹 개발, 데이터 분석, 인공지능 등 다양한 분야에서 활용됩니다. 파이썬은 무료이며 오픈 소스이기 때문에 누구나 사용할 수 있고 커뮤니티가 발전되어 있어 도움을 받기 쉽습니다. 코드를 빠르게 작성하고 실행할 수 있어 개발자들 사이에서 인기가 매우 높은 언어입니다.\n"
          ]
        }
      ]
    },
    {
      "cell_type": "markdown",
      "source": [
        "# (2) 매개변수 조절해보기"
      ],
      "metadata": {
        "id": "J1K5nUWXJFH5"
      }
    },
    {
      "cell_type": "markdown",
      "source": [
        "### 1. temperature - 일관성\n",
        "- 0: 일관적인 응답\n",
        "- 1: 중간\n",
        "- 2: 창의적인 응답"
      ],
      "metadata": {
        "id": "94MgtW-AJ8i4"
      }
    },
    {
      "cell_type": "code",
      "source": [
        "# temperature 0으로 설정 1\n",
        "\n",
        "from langchain.chat_models import ChatOpenAI\n",
        "\n",
        "chatgpt = ChatOpenAI(model_name='gpt-3.5-turbo', temperature=0)\n",
        "answer = chatgpt.predict('파이썬에 대해 설명해줘. 대답은 한글로 해줘.')\n",
        "\n",
        "print(answer)"
      ],
      "metadata": {
        "colab": {
          "base_uri": "https://localhost:8080/"
        },
        "id": "HYZnv8A_Jjo2",
        "outputId": "bec6a117-fff5-4c97-e37a-e5f4fdd481ee"
      },
      "execution_count": 4,
      "outputs": [
        {
          "output_type": "stream",
          "name": "stdout",
          "text": [
            "파이썬은 간단하고 읽기 쉬운 문법을 가진 프로그래밍 언어입니다. 다양한 운영 체제에서 사용할 수 있고, 다양한 목적으로 활용됩니다. 파이썬은 데이터 분석, 인공지능, 웹 개발 등 다양한 분야에서 널리 사용되고 있습니다. 또한, 파이썬은 라이브러리와 모듈이 풍부하여 개발 속도를 빠르게 할 수 있습니다.\n"
          ]
        }
      ]
    },
    {
      "cell_type": "code",
      "source": [
        "# temperature 0으로 설정 2\n",
        "\n",
        "from langchain.chat_models import ChatOpenAI\n",
        "\n",
        "chatgpt = ChatOpenAI(model_name='gpt-3.5-turbo', temperature=0)\n",
        "answer = chatgpt.predict('파이썬에 대해 설명해줘. 대답은 한글로 해줘.')\n",
        "\n",
        "print(answer)"
      ],
      "metadata": {
        "colab": {
          "base_uri": "https://localhost:8080/"
        },
        "id": "QNAZR6ZkKHxi",
        "outputId": "f437619d-c197-42ec-aabe-3dda4a945d18"
      },
      "execution_count": 5,
      "outputs": [
        {
          "output_type": "stream",
          "name": "stdout",
          "text": [
            "파이썬은 간단하고 쉽게 배울 수 있는 프로그래밍 언어입니다. 파이썬은 다양한 운영 체제에서 사용할 수 있으며, 데이터 분석, 인공지능, 웹 개발 등 다양한 분야에서 널리 사용됩니다. 파이썬은 문법이 간결하고 가독성이 좋아 초보자도 쉽게 배울 수 있습니다. 또한 다양한 라이브러리와 모듈을 제공하여 개발을 빠르고 효율적으로 할 수 있습니다. 파이썬은 많은 개발자들에게 사랑받는 언어 중 하나입니다.\n"
          ]
        }
      ]
    },
    {
      "cell_type": "markdown",
      "source": [
        "- temperature 0: 답변의 형식과 내용이 거의 동일"
      ],
      "metadata": {
        "id": "L-4J-7LSc1mI"
      }
    },
    {
      "cell_type": "code",
      "source": [
        "# temperature 1로 설정 1\n",
        "\n",
        "from langchain.chat_models import ChatOpenAI\n",
        "\n",
        "chatgpt = ChatOpenAI(model_name='gpt-3.5-turbo', temperature=1)\n",
        "answer = chatgpt.predict('파이썬에 대해 설명해줘. 대답은 한글로 해줘.')\n",
        "\n",
        "print(answer)"
      ],
      "metadata": {
        "colab": {
          "base_uri": "https://localhost:8080/"
        },
        "id": "0Bm9gztIKVcq",
        "outputId": "8d9a8561-b47f-46bf-b153-6a935ef6c47d"
      },
      "execution_count": 6,
      "outputs": [
        {
          "output_type": "stream",
          "name": "stdout",
          "text": [
            "파이썬은 인기 있는 프로그래밍 언어 중 하나로, 간단하고 읽기 쉬운 문법을 가지고 있어 초보자도 쉽게 배울 수 있습니다. 다양한 분야에서 사용되며 데이터 분석, 웹 개발, 인공지능, 자동화 등 다양한 용도로 활용됩니다. 또한 오픈 소스이며 커뮤니티가 활발하여 다양한 라이브러리와 모듈을 제공받을 수 있어 개발에 용이합니다. 파이썬은 다양한 운영 체제에서 작동하며, 자바, C++, 자바스크립트 등 다른 언어와의 통합도 잘 이루어집니다.\n"
          ]
        }
      ]
    },
    {
      "cell_type": "code",
      "source": [
        "# temperature 1로 설정 2\n",
        "\n",
        "from langchain.chat_models import ChatOpenAI\n",
        "\n",
        "chatgpt = ChatOpenAI(model_name='gpt-3.5-turbo', temperature=1)\n",
        "answer = chatgpt.predict('파이썬에 대해 설명해줘. 대답은 한글로 해줘.')\n",
        "\n",
        "print(answer)"
      ],
      "metadata": {
        "colab": {
          "base_uri": "https://localhost:8080/"
        },
        "id": "iLDxtAU8dEn9",
        "outputId": "cd1d2ac0-d9bc-4fad-d76a-dd4b7393232a"
      },
      "execution_count": 7,
      "outputs": [
        {
          "output_type": "stream",
          "name": "stdout",
          "text": [
            "파이썬은 간단하고 읽기 쉬운 문법을 가진 프로그래밍 언어입니다. 파이썬은 다양한 분야에서 사용되며 데이터 분석, 인공지능, 웹 개발 등 다양한 분야에서 활용됩니다. 또한 파이썬은 인기 있는 언어로, 개발자들 사이에서도 많이 사용되고 있습니다. 기초부터 고급까지 다양한 수준의 프로그래밍을 할 수 있으며, 다른 언어에 비해 문법이 간단해 초보자도 쉽게 배울 수 있습니다.\n"
          ]
        }
      ]
    },
    {
      "cell_type": "markdown",
      "source": [
        "- temperature 1: 답변의 형식과 내용에 차이가 있음"
      ],
      "metadata": {
        "id": "urnlVbcudWwj"
      }
    },
    {
      "cell_type": "markdown",
      "source": [
        "### 2. streaming=True, callbacks=[StreamingStdOutCallbackHandler()] - 실시간 응답 출력"
      ],
      "metadata": {
        "id": "31QjaNNhKmuc"
      }
    },
    {
      "cell_type": "code",
      "source": [
        "from langchain.callbacks.streaming_stdout import StreamingStdOutCallbackHandler\n",
        "\n",
        "# 실시간 응답 출력 매개변수 추가\n",
        "chatgpt = ChatOpenAI(model_name='gpt-3.5-turbo', streaming=True, callbacks=[StreamingStdOutCallbackHandler()], temperature=1)\n",
        "answer = chatgpt.predict('파이썬에 대해 설명해줘. 대답은 한글로 해줘.')\n",
        "\n",
        "print(answer)"
      ],
      "metadata": {
        "colab": {
          "base_uri": "https://localhost:8080/"
        },
        "id": "JQQTkE7VKaeg",
        "outputId": "8abec2b7-516b-4315-c1be-7ab42784b2ed"
      },
      "execution_count": 8,
      "outputs": [
        {
          "output_type": "stream",
          "name": "stdout",
          "text": [
            "파이썬은 간단하고 읽기 쉬운 문법을 가진 프로그래밍 언어입니다. 파이썬은 인터프리터 방식으로 동작하기 때문에 코드를 한 줄씩 실행하며 결과를 바로 확인할 수 있습니다. 또한 다양한 모듈과 라이브러리를 지원하여 다양한 용도로 활용될 수 있습니다. 파이썬은 데이터 분석, 인공지능, 웹 개발 등 다양한 분야에서 널리 사용되고 있습니다.파이썬은 간단하고 읽기 쉬운 문법을 가진 프로그래밍 언어입니다. 파이썬은 인터프리터 방식으로 동작하기 때문에 코드를 한 줄씩 실행하며 결과를 바로 확인할 수 있습니다. 또한 다양한 모듈과 라이브러리를 지원하여 다양한 용도로 활용될 수 있습니다. 파이썬은 데이터 분석, 인공지능, 웹 개발 등 다양한 분야에서 널리 사용되고 있습니다.\n"
          ]
        }
      ]
    },
    {
      "cell_type": "markdown",
      "source": [
        "### 3. SystemMessage - 역할 부여\n",
        "- ChatGPT API는 기본 OpenAI LLM들과 다른 Input 형식을 가짐.\n",
        "\n",
        "- ChatGPT는 대화에 특화된 LLM인 만큼, 아래와 같은 2가지 독특한 매개변수를 지님.\n",
        "\n",
        "---\n",
        "\n",
        "(1) SystemMessage: ChatGPT에게 역할을 부여하여, 대화의 맥락을 설정하는 메세지\n",
        "\n",
        "(2) HumanMessage: 사용자가 ChatGPT에게 대화 또는 요청을 위해 보내는 메세지"
      ],
      "metadata": {
        "id": "sQC5RQAyLwOd"
      }
    },
    {
      "cell_type": "code",
      "source": [
        "from langchain.chat_models import ChatOpenAI\n",
        "from langchain.schema import AIMessage, HumanMessage, SystemMessage\n",
        "\n",
        "chatgpt = ChatOpenAI(model_name=\"gpt-3.5-turbo\", temperature=1)\n",
        "\n",
        "# 역할 부여 매개변수 추가\n",
        "messages = [\n",
        "    SystemMessage(\n",
        "        content=\"너는 영어 한국어 통역사야.\"\n",
        "    ),\n",
        "    HumanMessage(\n",
        "        content=\"I Love Langchain.\"\n",
        "    ),\n",
        "]\n",
        "\n",
        "response_langchain = chatgpt(messages)\n",
        "response_langchain"
      ],
      "metadata": {
        "colab": {
          "base_uri": "https://localhost:8080/"
        },
        "id": "LIf8uKf0Lbss",
        "outputId": "ce559831-fd62-4a94-aad4-bb52e94183b4"
      },
      "execution_count": 12,
      "outputs": [
        {
          "output_type": "execute_result",
          "data": {
            "text/plain": [
              "AIMessage(content='Langchain을 좋아합니다.', response_metadata={'token_usage': {'completion_tokens': 8, 'prompt_tokens': 33, 'total_tokens': 41}, 'model_name': 'gpt-3.5-turbo', 'system_fingerprint': 'fp_3b956da36b', 'finish_reason': 'stop', 'logprobs': None}, id='run-59801ee1-52ed-4239-af20-479536d3ae24-0')"
            ]
          },
          "metadata": {},
          "execution_count": 12
        }
      ]
    },
    {
      "cell_type": "code",
      "source": [
        "# 응답의 문장만 추출\n",
        "\n",
        "print(response_langchain.content)"
      ],
      "metadata": {
        "colab": {
          "base_uri": "https://localhost:8080/"
        },
        "id": "t9E9hVyNM8-w",
        "outputId": "259debe3-5f29-4bcc-c417-90cde2a508c2"
      },
      "execution_count": 13,
      "outputs": [
        {
          "output_type": "stream",
          "name": "stdout",
          "text": [
            "Langchain을 좋아합니다.\n"
          ]
        }
      ]
    },
    {
      "cell_type": "markdown",
      "source": [
        "# (3) 총정리"
      ],
      "metadata": {
        "id": "nAt3oxe9gwYw"
      }
    },
    {
      "cell_type": "code",
      "source": [
        "from langchain.chat_models import ChatOpenAI\n",
        "from langchain.schema import HumanMessage, SystemMessage, AIMessage\n",
        "\n",
        "# 일관성, 실시간 응답 출력 매개변수 추가\n",
        "chat = ChatOpenAI(temperature=1, streaming=True, callbacks=[StreamingStdOutCallbackHandler()])\n",
        "\n",
        "# 역할 부여 매개변수 추가\n",
        "answer = chat(\n",
        "  [\n",
        "    SystemMessage(content=\"\"\"당신은 공부 계획을 세워주는 스터디 플래너 머신입니다.\n",
        "    사용자의 공부 주제를 입력 받으면, 이를 학습하기 위한 공부 계획을 작성합니다.\"\"\"),\n",
        "    HumanMessage(content=\"Large Language Model에 대해서 공부하고 싶어요.\")\n",
        "  ]\n",
        ")"
      ],
      "metadata": {
        "colab": {
          "base_uri": "https://localhost:8080/"
        },
        "id": "uXPJ-iryNCND",
        "outputId": "2aebff26-c408-4af6-c091-290497f21734"
      },
      "execution_count": 14,
      "outputs": [
        {
          "output_type": "stream",
          "name": "stdout",
          "text": [
            "Large Language Model 공부 계획:\n",
            "\n",
            "1. **이론 학습**\n",
            "   - Large Language Model의 개념과 원리에 대해 학습합니다.\n",
            "   - 다양한 Large Language Model의 종류와 차이점을 파악합니다.\n",
            "   - Large Language Model이 어떻게 작동하는지에 대해 깊이 이해합니다.\n",
            "\n",
            "2. **코드 실습**\n",
            "   - Python을 사용하여 Large Language Model을 구축하는 방법을 실습합니다.\n",
            "   - Transformer 구조 등 Large Language Model의 핵심 구성 요소를 코드로 구현해봅니다.\n",
            "   - Pre-trained Large Language Model을 활용하여 다양한 자연어 처리 작업을 수행해봅니다.\n",
            "\n",
            "3. **프로젝트**\n",
            "   - Large Language Model을 활용한 프로젝트를 계획하고 실행해봅니다.\n",
            "   - 자신만의 Large Language Model을 학습시켜 특정 작업에 적용해볼 수 있는 프로젝트를 진행합니다.\n",
            "  \n",
            "4. **논문 리뷰**\n",
            "   - 최신 Large Language Model 관련 논문들을 읽고 리뷰합니다.\n",
            "   - 핵심 아이디어와 새로운 기술 동향을 파악하기 위해 논문을 연구하고 이해합니다.\n",
            "\n",
            "5. **토론 및 피드백**\n",
            "   - 관련 분야의 전문가들과 토론하고 의견을 나누는 공간을 활용합니다.\n",
            "   - 자신의 학습 내용을 다른 사람들과 공유하고 피드백을 받아 지식을 공유하고 확장합니다.\n",
            "\n",
            "위의 계획을 참고하여 Large Language Model에 대한 학습을 시작해보세요. 필요한 자료와 도구를 확보하고 계획을 조정하여 자신에게 맞는 학습 방법을 찾아 진행해보세요. 언제든지 도움이 필요하거나 추가 정보가 필요하면 말씀해주세요!"
          ]
        }
      ]
    },
    {
      "cell_type": "code",
      "source": [
        "# 응답 확인\n",
        "answer"
      ],
      "metadata": {
        "colab": {
          "base_uri": "https://localhost:8080/"
        },
        "id": "EHtZCigJNrKg",
        "outputId": "02ee54d3-6e1d-4054-c7fd-2767cc227c1f"
      },
      "execution_count": 15,
      "outputs": [
        {
          "output_type": "execute_result",
          "data": {
            "text/plain": [
              "AIMessage(content='Large Language Model 공부 계획:\\n\\n1. **이론 학습**\\n   - Large Language Model의 개념과 원리에 대해 학습합니다.\\n   - 다양한 Large Language Model의 종류와 차이점을 파악합니다.\\n   - Large Language Model이 어떻게 작동하는지에 대해 깊이 이해합니다.\\n\\n2. **코드 실습**\\n   - Python을 사용하여 Large Language Model을 구축하는 방법을 실습합니다.\\n   - Transformer 구조 등 Large Language Model의 핵심 구성 요소를 코드로 구현해봅니다.\\n   - Pre-trained Large Language Model을 활용하여 다양한 자연어 처리 작업을 수행해봅니다.\\n\\n3. **프로젝트**\\n   - Large Language Model을 활용한 프로젝트를 계획하고 실행해봅니다.\\n   - 자신만의 Large Language Model을 학습시켜 특정 작업에 적용해볼 수 있는 프로젝트를 진행합니다.\\n  \\n4. **논문 리뷰**\\n   - 최신 Large Language Model 관련 논문들을 읽고 리뷰합니다.\\n   - 핵심 아이디어와 새로운 기술 동향을 파악하기 위해 논문을 연구하고 이해합니다.\\n\\n5. **토론 및 피드백**\\n   - 관련 분야의 전문가들과 토론하고 의견을 나누는 공간을 활용합니다.\\n   - 자신의 학습 내용을 다른 사람들과 공유하고 피드백을 받아 지식을 공유하고 확장합니다.\\n\\n위의 계획을 참고하여 Large Language Model에 대한 학습을 시작해보세요. 필요한 자료와 도구를 확보하고 계획을 조정하여 자신에게 맞는 학습 방법을 찾아 진행해보세요. 언제든지 도움이 필요하거나 추가 정보가 필요하면 말씀해주세요!', response_metadata={'finish_reason': 'stop'}, id='run-b58c06b9-e0a5-41a7-b9e0-37c2b5f63604-0')"
            ]
          },
          "metadata": {},
          "execution_count": 15
        }
      ]
    },
    {
      "cell_type": "code",
      "source": [
        "# 응답의 문장만 추출\n",
        "print(answer.content)"
      ],
      "metadata": {
        "colab": {
          "base_uri": "https://localhost:8080/"
        },
        "id": "HB-KnWpgON2O",
        "outputId": "34eb8f01-9da6-4f0b-8bb4-95a736186511"
      },
      "execution_count": 16,
      "outputs": [
        {
          "output_type": "stream",
          "name": "stdout",
          "text": [
            "Large Language Model 공부 계획:\n",
            "\n",
            "1. **이론 학습**\n",
            "   - Large Language Model의 개념과 원리에 대해 학습합니다.\n",
            "   - 다양한 Large Language Model의 종류와 차이점을 파악합니다.\n",
            "   - Large Language Model이 어떻게 작동하는지에 대해 깊이 이해합니다.\n",
            "\n",
            "2. **코드 실습**\n",
            "   - Python을 사용하여 Large Language Model을 구축하는 방법을 실습합니다.\n",
            "   - Transformer 구조 등 Large Language Model의 핵심 구성 요소를 코드로 구현해봅니다.\n",
            "   - Pre-trained Large Language Model을 활용하여 다양한 자연어 처리 작업을 수행해봅니다.\n",
            "\n",
            "3. **프로젝트**\n",
            "   - Large Language Model을 활용한 프로젝트를 계획하고 실행해봅니다.\n",
            "   - 자신만의 Large Language Model을 학습시켜 특정 작업에 적용해볼 수 있는 프로젝트를 진행합니다.\n",
            "  \n",
            "4. **논문 리뷰**\n",
            "   - 최신 Large Language Model 관련 논문들을 읽고 리뷰합니다.\n",
            "   - 핵심 아이디어와 새로운 기술 동향을 파악하기 위해 논문을 연구하고 이해합니다.\n",
            "\n",
            "5. **토론 및 피드백**\n",
            "   - 관련 분야의 전문가들과 토론하고 의견을 나누는 공간을 활용합니다.\n",
            "   - 자신의 학습 내용을 다른 사람들과 공유하고 피드백을 받아 지식을 공유하고 확장합니다.\n",
            "\n",
            "위의 계획을 참고하여 Large Language Model에 대한 학습을 시작해보세요. 필요한 자료와 도구를 확보하고 계획을 조정하여 자신에게 맞는 학습 방법을 찾아 진행해보세요. 언제든지 도움이 필요하거나 추가 정보가 필요하면 말씀해주세요!\n"
          ]
        }
      ]
    }
  ]
}
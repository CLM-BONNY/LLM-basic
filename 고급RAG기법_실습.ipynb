{
  "nbformat": 4,
  "nbformat_minor": 0,
  "metadata": {
    "colab": {
      "provenance": []
    },
    "kernelspec": {
      "name": "python3",
      "display_name": "Python 3"
    },
    "language_info": {
      "name": "python"
    }
  },
  "cells": [
    {
      "cell_type": "code",
      "execution_count": 1,
      "metadata": {
        "id": "7MWhs9QwZfjU"
      },
      "outputs": [],
      "source": [
        "!pip install -q langchain pypdf sentence-transformers chromadb openai"
      ]
    },
    {
      "cell_type": "markdown",
      "source": [
        "# 1. Multi-Query Retriever"
      ],
      "metadata": {
        "id": "_HBhuL23S_YR"
      }
    },
    {
      "cell_type": "code",
      "source": [
        "# Build a sample vectorDB\n",
        "from langchain.text_splitter import RecursiveCharacterTextSplitter\n",
        "from langchain_community.document_loaders import WebBaseLoader\n",
        "from langchain_community.vectorstores import Chroma\n",
        "from langchain.embeddings import HuggingFaceEmbeddings\n",
        "\n",
        "# Load blog post\n",
        "loader = WebBaseLoader(\"https://n.news.naver.com/mnews/article/003/0012317114?sid=105\")\n",
        "data = loader.load()\n",
        "\n",
        "# Split\n",
        "text_splitter = RecursiveCharacterTextSplitter(chunk_size=300, chunk_overlap=0)\n",
        "splits = text_splitter.split_documents(data)\n",
        "\n",
        "# VectorDB\n",
        "model_name = \"jhgan/ko-sbert-nli\"\n",
        "encode_kwargs = {'normalize_embeddings': True}\n",
        "ko_embedding = HuggingFaceEmbeddings(\n",
        "    model_name=model_name,\n",
        "    encode_kwargs=encode_kwargs\n",
        ")\n",
        "\n",
        "vectordb = Chroma.from_documents(documents=splits, embedding=ko_embedding)"
      ],
      "metadata": {
        "id": "Y3TWw12cSqRw",
        "colab": {
          "base_uri": "https://localhost:8080/"
        },
        "outputId": "03488764-750b-41c9-bc62-ae2722b7a937"
      },
      "execution_count": 2,
      "outputs": [
        {
          "output_type": "stream",
          "name": "stderr",
          "text": [
            "/usr/local/lib/python3.10/dist-packages/huggingface_hub/utils/_token.py:88: UserWarning: \n",
            "The secret `HF_TOKEN` does not exist in your Colab secrets.\n",
            "To authenticate with the Hugging Face Hub, create a token in your settings tab (https://huggingface.co/settings/tokens), set it as secret in your Google Colab and restart your session.\n",
            "You will be able to reuse this secret in all of your notebooks.\n",
            "Please note that authentication is recommended but still optional to access public models or datasets.\n",
            "  warnings.warn(\n"
          ]
        }
      ]
    },
    {
      "cell_type": "code",
      "source": [
        "from langchain.retrievers.multi_query import MultiQueryRetriever\n",
        "from langchain.chat_models import ChatOpenAI\n",
        "\n",
        "question = \"삼성전자 갤럭시 S24는 어떨 예정이야?\"\n",
        "\n",
        "llm = ChatOpenAI(temperature=0, openai_api_key = \"api_key\")\n",
        "\n",
        "retriever_from_llm = MultiQueryRetriever.from_llm(\n",
        "    retriever=vectordb.as_retriever(), llm=llm\n",
        ")"
      ],
      "metadata": {
        "id": "epoTy2FNSuqz",
        "colab": {
          "base_uri": "https://localhost:8080/"
        },
        "outputId": "487cf8f3-98e4-42e4-d9eb-b6760dee4547"
      },
      "execution_count": 3,
      "outputs": [
        {
          "output_type": "stream",
          "name": "stderr",
          "text": [
            "/usr/local/lib/python3.10/dist-packages/langchain_core/_api/deprecation.py:119: LangChainDeprecationWarning: The class `ChatOpenAI` was deprecated in LangChain 0.0.10 and will be removed in 0.2.0. An updated version of the class exists in the langchain-openai package and should be used instead. To use it run `pip install -U langchain-openai` and import as `from langchain_openai import ChatOpenAI`.\n",
            "  warn_deprecated(\n"
          ]
        }
      ]
    },
    {
      "cell_type": "code",
      "source": [
        "# Set logging for the queries\n",
        "import logging\n",
        "\n",
        "logging.basicConfig()\n",
        "logging.getLogger(\"langchain.retrievers.multi_query\").setLevel(logging.INFO)"
      ],
      "metadata": {
        "id": "eU6X_HctSumR"
      },
      "execution_count": 4,
      "outputs": []
    },
    {
      "cell_type": "code",
      "source": [
        "unique_docs = retriever_from_llm.get_relevant_documents(query=question)\n",
        "len(unique_docs)"
      ],
      "metadata": {
        "id": "pXYmox2MSuZ-",
        "colab": {
          "base_uri": "https://localhost:8080/"
        },
        "outputId": "1b9e75be-ed3c-40e5-cde1-99e1d285e2ed"
      },
      "execution_count": 5,
      "outputs": [
        {
          "output_type": "stream",
          "name": "stderr",
          "text": [
            "/usr/local/lib/python3.10/dist-packages/langchain_core/_api/deprecation.py:119: LangChainDeprecationWarning: The method `BaseRetriever.get_relevant_documents` was deprecated in langchain-core 0.1.46 and will be removed in 0.3.0. Use invoke instead.\n",
            "  warn_deprecated(\n",
            "INFO:langchain.retrievers.multi_query:Generated queries: ['1. 삼성 갤럭시 S24 출시 일정은 어떻게 되나요?', '2. 삼성 갤럭시 S24의 기대되는 특징은 무엇인가요?', '3. 삼성 갤럭시 S24의 스펙 및 가격에 대한 정보를 알고 싶어요.']\n"
          ]
        },
        {
          "output_type": "execute_result",
          "data": {
            "text/plain": [
              "7"
            ]
          },
          "metadata": {},
          "execution_count": 5
        }
      ]
    },
    {
      "cell_type": "code",
      "source": [
        "unique_docs"
      ],
      "metadata": {
        "id": "MIz2l4OaS75w",
        "colab": {
          "base_uri": "https://localhost:8080/"
        },
        "outputId": "550b97db-ced7-4997-a5cc-33a6014be95b"
      },
      "execution_count": 6,
      "outputs": [
        {
          "output_type": "execute_result",
          "data": {
            "text/plain": [
              "[Document(page_content=\"[서울=뉴시스] 삼성전자가 17일 오전 10시(현지시간, 한국 시간 18일 오전 3시) 미국 캘리포니아주 산호세(새너제이)에서 '삼성 갤럭시 언팩 2024'를 열고 갤럭시 S24를 공개한다. 사진은 포르투갈에서 유출된 갤럭시 S24 시리즈 포스터 추정 이미지 (사진=theonecid 엑스 캡처)  *재판매 및 DB 금지[서울=뉴시스]윤정민 기자 = 인공지능(AI) 서비스가 대거 탑재될 삼성전자 플래그십 스마트폰 '갤럭시 S24'가 18일 베일을 벗는다. 갤럭시 S23이 전작 대비 카메라, 디자인 등 대폭 개선됐다면, 이번 신작은\", metadata={'language': 'ko', 'source': 'https://n.news.naver.com/mnews/article/003/0012317114?sid=105', 'title': \"언팩 D-4, 세계 최초 AI폰 '갤S24' 이렇게 나온다\"}),\n",
              " Document(page_content=\"[서울=뉴시스] 삼성전자가 17일 오전 10시(현지시간, 한국 시간 18일 오전 3시) 미국 캘리포니아주 산호세(새너제이)에서 열 '삼성 갤럭시 언팩 2024'의 주제는 '모바일 AI의 새로운 시대 개막'이다. 앞서 삼성전자가 AI를 스마트폰 차기작 특징으로 예고했던 만큼 어떤 AI 기능이 실릴지 관심이 쏠린다.삼성전자가 공식적으로 밝힌 AI 서비스는 실시간 통화 통역이다. 이미 SK텔레콤 '에이닷' 등 통화 통역을 지원하는 앱이 있다. 하지만 자체 AI가 탑재될 갤럭시 S24는 별도 앱을 설치하지 않아도 통역 통화를 이용할 수\", metadata={'language': 'ko', 'source': 'https://n.news.naver.com/mnews/article/003/0012317114?sid=105', 'title': \"언팩 D-4, 세계 최초 AI폰 '갤S24' 이렇게 나온다\"}),\n",
              " Document(page_content=\"[서울=뉴시스] 8일 업계에 따르면 삼성전자는 미국 삼성닷컴 새 스마트폰 사전예약 알림 창구에 '갤럭시 AI와 함께하는 줌이 온다(Zoom with Galaxy AI is coming)'을 주제로 한 영상을 게재했다. (영상=미국 삼성닷컴 캡처) *재판매 및 DB 금지 *재판매 및 DB 금지AI를 통해 사진 속 일부 물체 크기를 더 키울 수 있는 기능도 나올 가능성이 있다. 삼성전자는 미국 삼성닷컴 새 스마트폰 사전 예약 알림 창구에 '갤럭시 AI와 함께하는 줌이 온다'를 주제로 한 영상을 게재했다. 나인투파이브구글 등 해외 IT\", metadata={'language': 'ko', 'source': 'https://n.news.naver.com/mnews/article/003/0012317114?sid=105', 'title': \"언팩 D-4, 세계 최초 AI폰 '갤S24' 이렇게 나온다\"}),\n",
              " Document(page_content='닫기\\n\\n\\n \\n\\n글자 크기 변경하기\\n\\n\\n\\n가1단계\\n작게\\n\\n\\n가2단계\\n보통\\n\\n\\n가3단계\\n크게\\n\\n\\n가4단계\\n아주크게\\n\\n\\n가5단계\\n최대크게\\n\\n\\n\\n\\n\\n\\nSNS 보내기\\n\\n\\n\\n인쇄하기\\n\\n\\n\\n\\n\\n\\n\\n\\n삼성전자, 17일(美 현지시간) 언팩서 갤럭시 S24 시리즈 공개국내 출고가 일반·플러스 동결, 울트라 약 10만원 인상 전망실시간 통화 통역, 이미지 자동 편집 등 AI 기능 탑재 예상', metadata={'language': 'ko', 'source': 'https://n.news.naver.com/mnews/article/003/0012317114?sid=105', 'title': \"언팩 D-4, 세계 최초 AI폰 '갤S24' 이렇게 나온다\"}),\n",
              " Document(page_content='한층 진화된 AI 서비스로 새로운 스마트폰 기준을 제시할 것으로 전망된다.업계 모두가 스마트폰 시장 선두 주자인 삼성전자의 신작을 궁금해하는 만큼 공신력 있는 IT 팁스터(정보유출자)들이 여러 정보를 유출했다. 14일 현재까지 삼성전자가 공개한 스마트폰 신작 정보와 업계에 유출된 내용을 종합해 갤럭시 S24 예상 사양을 정리해 봤다.\"손안에 만능 비서 담았다\"…인터넷 연결 없어도 AI 쓸 수 있는 \\'온디바이스 AI폰\\'', metadata={'language': 'ko', 'source': 'https://n.news.naver.com/mnews/article/003/0012317114?sid=105', 'title': \"언팩 D-4, 세계 최초 AI폰 '갤S24' 이렇게 나온다\"}),\n",
              " Document(page_content='[서울=뉴시스] 삼성전자 갤럭시 S24 시리즈 예상 색상 유출본 (사진=인터넷 커뮤니티 캡처) *재판매 및 DB 금지외관의 경우 갤럭시 S24 울트라 모델이 전작과 달리 티타늄 소재를 썼다는 데 눈에 띈다. 티타늄은 알루미늄보다 무게가 무겁지만 내구성이 강하다.스마트폰 두뇌 역할을 하는 모바일 애플리케이션 프로세서(AP)에는 퀄컴 스냅드래곤8 3세대와 삼성 엑시노스 2400이 적용될 것으로 보인다. 국내 시장에 출시될 제품의 경우 퀄컴 칩은 울트라 모델에만 탑재되고 일반과 플러스 모델에는 엑시노스 칩이 실릴 전망이다.작업 처리에', metadata={'language': 'ko', 'source': 'https://n.news.naver.com/mnews/article/003/0012317114?sid=105', 'title': \"언팩 D-4, 세계 최초 AI폰 '갤S24' 이렇게 나온다\"}),\n",
              " Document(page_content='기준 오닉스 블랙, 마블 그레이, 코발트 바이올렛, 앰버 옐로우 등 4가지이며 울트라는 티타늄 블랙, 티타늄 그레이, 티타늄 바이올렛, 티타늄 옐로우 등 4가지가 될 것으로 예상된다. 이 밖에 삼성닷컴 판매 한정으로 티타늄 그린, 티타늄 블루, 티타늄 오렌지도 추가될 전망이다.국내 출고가 일반·플러스 동결, 울트라 약 10만원 인상될 듯…19일 사전예약소비자 입장에서 제일 궁금한 건 가격과 사전 예약 혜택이다.일반형, 플러스 모델(256GB 기준) 가격은 전작과 같을 것으로 전망된다. 256GB 용량 기준 일반형과 플러스 모델', metadata={'language': 'ko', 'source': 'https://n.news.naver.com/mnews/article/003/0012317114?sid=105', 'title': \"언팩 D-4, 세계 최초 AI폰 '갤S24' 이렇게 나온다\"})]"
            ]
          },
          "metadata": {},
          "execution_count": 6
        }
      ]
    },
    {
      "cell_type": "markdown",
      "source": [
        "# 2. 기본 Parent-document Retriever"
      ],
      "metadata": {
        "id": "digNJMyRtM3k"
      }
    },
    {
      "cell_type": "code",
      "execution_count": 7,
      "metadata": {
        "id": "tZOk-3LOnb-0"
      },
      "outputs": [],
      "source": [
        "from langchain.retrievers import ParentDocumentRetriever"
      ]
    },
    {
      "cell_type": "code",
      "source": [
        "from langchain.storage import InMemoryStore\n",
        "from langchain.text_splitter import RecursiveCharacterTextSplitter\n",
        "from langchain.document_loaders import PyPDFLoader\n",
        "from langchain_community.vectorstores import Chroma\n",
        "from langchain.embeddings import HuggingFaceEmbeddings\n"
      ],
      "metadata": {
        "id": "f0ONC3wZn62e"
      },
      "execution_count": 8,
      "outputs": []
    },
    {
      "cell_type": "code",
      "source": [
        "loaders = [\n",
        "    PyPDFLoader(\"/content/drive/MyDrive/Colab Notebooks/LLM 실습/[복지이슈 FOCUS 15ȣ] 경기도 극저신용대출심사모형 개발을 위한 국내 신용정보 활용가능성 탐색.pdf\"),\n",
        "    PyPDFLoader(\"/content/drive/MyDrive/Colab Notebooks/LLM 실습/[이슈리포트 2022-2호] 혁신성장 정책금융 동향.pdf\"),\n",
        "]\n",
        "docs = []\n",
        "for loader in loaders:\n",
        "    docs.extend(loader.load_and_split())"
      ],
      "metadata": {
        "id": "VpJhZWThn7gG"
      },
      "execution_count": 9,
      "outputs": []
    },
    {
      "cell_type": "code",
      "source": [
        "model_name = \"jhgan/ko-sbert-nli\"\n",
        "encode_kwargs = {'normalize_embeddings': True}\n",
        "ko_embedding = HuggingFaceEmbeddings(\n",
        "    model_name=model_name,\n",
        "    encode_kwargs=encode_kwargs\n",
        ")"
      ],
      "metadata": {
        "id": "KBb-1ym5pKRG"
      },
      "execution_count": 10,
      "outputs": []
    },
    {
      "cell_type": "code",
      "source": [
        "# This text splitter is used to create the child documents\n",
        "child_splitter = RecursiveCharacterTextSplitter(chunk_size=500)\n",
        "# The vectorstore to use to index the child chunks\n",
        "vectorstore = Chroma(\n",
        "    collection_name=\"full_documents\", embedding_function=ko_embedding\n",
        ")\n",
        "# The storage layer for the parent documents\n",
        "store = InMemoryStore()\n",
        "retriever = ParentDocumentRetriever(\n",
        "    vectorstore=vectorstore,\n",
        "    docstore=store,\n",
        "    child_splitter=child_splitter,\n",
        ")"
      ],
      "metadata": {
        "id": "fyixQa5SpHOW"
      },
      "execution_count": 11,
      "outputs": []
    },
    {
      "cell_type": "code",
      "source": [
        "retriever.add_documents(docs, ids=None)"
      ],
      "metadata": {
        "id": "IyVXzfq0pHME"
      },
      "execution_count": 12,
      "outputs": []
    },
    {
      "cell_type": "code",
      "source": [
        "sub_docs = vectorstore.similarity_search(\"인공지능 예산\")"
      ],
      "metadata": {
        "id": "L8z2B2rKrAv3"
      },
      "execution_count": 13,
      "outputs": []
    },
    {
      "cell_type": "code",
      "source": [
        "print(\"글 길이: {}\\n\\n\".format(len(sub_docs[0].page_content)))\n",
        "print(sub_docs[0].page_content)"
      ],
      "metadata": {
        "id": "_axFoMvnrA-h",
        "colab": {
          "base_uri": "https://localhost:8080/"
        },
        "outputId": "8577f04b-1b22-4e62-865b-7a644f630aa6"
      },
      "execution_count": 14,
      "outputs": [
        {
          "output_type": "stream",
          "name": "stdout",
          "text": [
            "글 길이: 423\n",
            "\n",
            "\n",
            "(40.0) (40.2) (48.9) (32.8) (49.8)   \n",
            "하드웨어30.9 43.1 60.2 89.2 118.3 176.5 41.7%\n",
            "　 (39.5) (39.7) (48.2) (32.5) (49.2)   \n",
            "     자료: Global Artificial Intelligence(AI) Market, BCC Research (2022)\n",
            "￮인공지능 기술을 도입하는 산업이 늘어나고 있는 점, 인공지능 분야에 진출하는 스타트업의 증가에 \n",
            "따라 산업의 기술경쟁력이 높아지는 점 등은 시장성장에  촉진요인으로 작용할 전망임\n",
            "￮국내 인공지능 기술에 대한 완성도가 높지 않아 국내기술의 도입처가 제한적인 점, 인공지능이 \n",
            "인간의 고용 영역을 침범할 수 있고 기술의 불안정성으로 인한 사고 발생의 우려가 존재하는 점 등은 \n",
            "시장성장에 저해요인 으로 작용할 전망임\n"
          ]
        }
      ]
    },
    {
      "cell_type": "code",
      "source": [
        "retrieved_docs = retriever.get_relevant_documents(\"인공지능 예산\")"
      ],
      "metadata": {
        "id": "W68G7ITorThj"
      },
      "execution_count": 15,
      "outputs": []
    },
    {
      "cell_type": "code",
      "source": [
        "print(\"글 길이: {}\\n\\n\".format(len(retrieved_docs[0].page_content)))\n",
        "print(retrieved_docs[0].page_content)"
      ],
      "metadata": {
        "id": "Uzl334J8rXEQ",
        "colab": {
          "base_uri": "https://localhost:8080/"
        },
        "outputId": "a778e9cc-ae20-420d-f90c-9dee042c120b"
      },
      "execution_count": 16,
      "outputs": [
        {
          "output_type": "stream",
          "name": "stdout",
          "text": [
            "글 길이: 1360\n",
            "\n",
            "\n",
            "| 10 | CIS이슈리포트 2022-2 호 ▶인공지능 산업의 value chain 은 ‘AI 플랫폼 공급업체 → AI 어플리케이션 개발 → AI 응용솔루션  \n",
            "개발 → 이용자 ’로 구성되며 , 동 산업은 ①성장기 산업, ②대체재로부터의 위협이 낮은 산업, ③기\n",
            "술집약적 산업 등의 특징을 가짐\n",
            "￮알고리즘 , 하드웨어 기술개발과 응용솔루션 서비스 상용화가 활발히 진행 중인 성장기 산업이며 , \n",
            "수요 기업의 요구사항에 따라 운영플랫폼을 선택할 수 있는 구매자의 교섭력이 높은 산업임\n",
            "￮직접적인 대체 기술이 없어 대체재로부터 위협이 낮은 편이며 , 알고리즘의 동작원리를 이해하고 맞\n",
            "춤형 서비스를 지원하기 위한 솔루션 개발 능력이 뒷받침 되어야 하는 기술집약적 산업임\n",
            "▶시장조사전문기관 BCC research 에 따르면 세계 인공지능 시장규모는 2020년 398.4 억 달러에서  \n",
            "연평균 41.0% 성장하여 2025 년에는 2,223.7 억 달러의 시장을 형성할 것으로 전망됨\n",
            "￮세부 솔루션 분문별로는 2020 년 기준 소프트웨어 부문의 점유율이 전체시장의 78.3% 를 차지할 \n",
            "정도로 압도적으로 높음\n",
            "[세계 인공지능 시장규모 ]\n",
            "                                                            (단위: 억 달러, 괄호는 YoY %)\n",
            "구분 2020 2021 2022 2023 2024 2025CAGR\n",
            "(2020-2025)\n",
            "인공지능398.4 553.3 769.7 1,134.3 1,498.9 2,223.7 41.0%\n",
            "　 (38.9) (39.1) (47.4) (32.1) (48.4)   \n",
            "소프트웨어311.8 432.3 600.3 882.4 1,164.6 1,723.5 40.8%\n",
            "　 (38.6) (38.8) (47.0) (32.0) (48.0)   \n",
            "서비스55.7 78.0 109.3 162.6 216.0 323.7 42.2%\n",
            "　 (40.0) (40.2) (48.9) (32.8) (49.8)   \n",
            "하드웨어30.9 43.1 60.2 89.2 118.3 176.5 41.7%\n",
            "　 (39.5) (39.7) (48.2) (32.5) (49.2)   \n",
            "     자료: Global Artificial Intelligence(AI) Market, BCC Research (2022)\n",
            "￮인공지능 기술을 도입하는 산업이 늘어나고 있는 점, 인공지능 분야에 진출하는 스타트업의 증가에 \n",
            "따라 산업의 기술경쟁력이 높아지는 점 등은 시장성장에  촉진요인으로 작용할 전망임\n",
            "￮국내 인공지능 기술에 대한 완성도가 높지 않아 국내기술의 도입처가 제한적인 점, 인공지능이 \n",
            "인간의 고용 영역을 침범할 수 있고 기술의 불안정성으로 인한 사고 발생의 우려가 존재하는 점 등은 \n",
            "시장성장에 저해요인 으로 작용할 전망임\n"
          ]
        }
      ]
    },
    {
      "cell_type": "markdown",
      "source": [
        "# 3. 본문의 Full_chunk가 너무 길때"
      ],
      "metadata": {
        "id": "AK752NU_tHjb"
      }
    },
    {
      "cell_type": "code",
      "source": [
        "# This text splitter is used to create the parent documents\n",
        "parent_splitter = RecursiveCharacterTextSplitter(chunk_size=800)\n",
        "# This text splitter is used to create the child documents\n",
        "# It should create documents smaller than the parent\n",
        "child_splitter = RecursiveCharacterTextSplitter(chunk_size=200)\n",
        "# The vectorstore to use to index the child chunks\n",
        "vectorstore = Chroma(\n",
        "    collection_name=\"split_parents\", embedding_function=ko_embedding\n",
        ")\n",
        "# The storage layer for the parent documents\n",
        "store = InMemoryStore()"
      ],
      "metadata": {
        "id": "q64Iw5Wbrd94"
      },
      "execution_count": 17,
      "outputs": []
    },
    {
      "cell_type": "code",
      "source": [
        "retriever = ParentDocumentRetriever(\n",
        "    vectorstore=vectorstore,\n",
        "    docstore=store,\n",
        "    child_splitter=child_splitter,\n",
        "    parent_splitter=parent_splitter,\n",
        ")"
      ],
      "metadata": {
        "id": "1TVbBTmgr_CA"
      },
      "execution_count": 18,
      "outputs": []
    },
    {
      "cell_type": "code",
      "source": [
        "retriever.add_documents(docs)"
      ],
      "metadata": {
        "id": "K9bPu58hsAfP"
      },
      "execution_count": 19,
      "outputs": []
    },
    {
      "cell_type": "code",
      "source": [
        "len(list(store.yield_keys()))"
      ],
      "metadata": {
        "id": "KLvoTdeksUne",
        "colab": {
          "base_uri": "https://localhost:8080/"
        },
        "outputId": "1f5a3bb2-5d72-4724-e6c4-9d40ffe5e7a4"
      },
      "execution_count": 20,
      "outputs": [
        {
          "output_type": "execute_result",
          "data": {
            "text/plain": [
              "69"
            ]
          },
          "metadata": {},
          "execution_count": 20
        }
      ]
    },
    {
      "cell_type": "code",
      "source": [
        "sub_docs = vectorstore.similarity_search(\"인공지능 예산\")"
      ],
      "metadata": {
        "id": "K0Te96C7sVxA"
      },
      "execution_count": 21,
      "outputs": []
    },
    {
      "cell_type": "code",
      "source": [
        "print(sub_docs[0].page_content)"
      ],
      "metadata": {
        "id": "qJ6Qb_E_sZCb",
        "colab": {
          "base_uri": "https://localhost:8080/"
        },
        "outputId": "4ed5a791-bfce-4b7f-9d0d-724166e2cd44"
      },
      "execution_count": 22,
      "outputs": [
        {
          "output_type": "stream",
          "name": "stdout",
          "text": [
            "[세계 인공지능 시장규모 ]\n",
            "                                                            (단위: 억 달러, 괄호는 YoY %)\n",
            "구분 2020 2021 2022 2023 2024 2025CAGR\n",
            "(2020-2025)\n",
            "인공지능398.4 553.3 769.7 1,134.3 1,498.9 2,223.7 41.0%\n"
          ]
        }
      ]
    },
    {
      "cell_type": "code",
      "source": [
        "len(sub_docs[0].page_content)"
      ],
      "metadata": {
        "id": "GXioc_E3so_U",
        "colab": {
          "base_uri": "https://localhost:8080/"
        },
        "outputId": "07d2c23a-941d-491d-91ea-11c4f00ce5e7"
      },
      "execution_count": 23,
      "outputs": [
        {
          "output_type": "execute_result",
          "data": {
            "text/plain": [
              "198"
            ]
          },
          "metadata": {},
          "execution_count": 23
        }
      ]
    },
    {
      "cell_type": "code",
      "source": [
        "retrieved_docs = retriever.get_relevant_documents(\"인공지능 예산\")"
      ],
      "metadata": {
        "id": "bL6F-aBJsZyv"
      },
      "execution_count": 24,
      "outputs": []
    },
    {
      "cell_type": "code",
      "source": [
        "print(retrieved_docs[0].page_content)"
      ],
      "metadata": {
        "id": "EnhD6dY_sfKq",
        "colab": {
          "base_uri": "https://localhost:8080/"
        },
        "outputId": "bd4e5f00-5bf4-47f7-bb8a-b984cba3e495"
      },
      "execution_count": 25,
      "outputs": [
        {
          "output_type": "stream",
          "name": "stdout",
          "text": [
            "| 10 | CIS이슈리포트 2022-2 호 ▶인공지능 산업의 value chain 은 ‘AI 플랫폼 공급업체 → AI 어플리케이션 개발 → AI 응용솔루션  \n",
            "개발 → 이용자 ’로 구성되며 , 동 산업은 ①성장기 산업, ②대체재로부터의 위협이 낮은 산업, ③기\n",
            "술집약적 산업 등의 특징을 가짐\n",
            "￮알고리즘 , 하드웨어 기술개발과 응용솔루션 서비스 상용화가 활발히 진행 중인 성장기 산업이며 , \n",
            "수요 기업의 요구사항에 따라 운영플랫폼을 선택할 수 있는 구매자의 교섭력이 높은 산업임\n",
            "￮직접적인 대체 기술이 없어 대체재로부터 위협이 낮은 편이며 , 알고리즘의 동작원리를 이해하고 맞\n",
            "춤형 서비스를 지원하기 위한 솔루션 개발 능력이 뒷받침 되어야 하는 기술집약적 산업임\n",
            "▶시장조사전문기관 BCC research 에 따르면 세계 인공지능 시장규모는 2020년 398.4 억 달러에서  \n",
            "연평균 41.0% 성장하여 2025 년에는 2,223.7 억 달러의 시장을 형성할 것으로 전망됨\n",
            "￮세부 솔루션 분문별로는 2020 년 기준 소프트웨어 부문의 점유율이 전체시장의 78.3% 를 차지할 \n",
            "정도로 압도적으로 높음\n",
            "[세계 인공지능 시장규모 ]\n",
            "                                                            (단위: 억 달러, 괄호는 YoY %)\n",
            "구분 2020 2021 2022 2023 2024 2025CAGR\n",
            "(2020-2025)\n",
            "인공지능398.4 553.3 769.7 1,134.3 1,498.9 2,223.7 41.0%\n",
            "　 (38.9) (39.1) (47.4) (32.1) (48.4)\n"
          ]
        }
      ]
    },
    {
      "cell_type": "code",
      "source": [
        "len(retrieved_docs[0].page_content)"
      ],
      "metadata": {
        "id": "UhxrZ1zAscVP",
        "colab": {
          "base_uri": "https://localhost:8080/"
        },
        "outputId": "1b3cfe2b-6cf1-432d-d68d-2c5671adf651"
      },
      "execution_count": 26,
      "outputs": [
        {
          "output_type": "execute_result",
          "data": {
            "text/plain": [
              "797"
            ]
          },
          "metadata": {},
          "execution_count": 26
        }
      ]
    },
    {
      "cell_type": "markdown",
      "source": [
        "# 4. Self-querying"
      ],
      "metadata": {
        "id": "FoTL9eBctWva"
      }
    },
    {
      "cell_type": "code",
      "source": [
        "!pip install lark"
      ],
      "metadata": {
        "id": "_DmHA3cgtZcJ",
        "colab": {
          "base_uri": "https://localhost:8080/"
        },
        "outputId": "5a6f1d85-8117-4a48-b895-58a15427da9c"
      },
      "execution_count": 27,
      "outputs": [
        {
          "output_type": "stream",
          "name": "stdout",
          "text": [
            "Requirement already satisfied: lark in /usr/local/lib/python3.10/dist-packages (1.1.9)\n"
          ]
        }
      ]
    },
    {
      "cell_type": "code",
      "source": [
        "from langchain.schema import Document\n",
        "from langchain_community.vectorstores import Chroma\n",
        "\n",
        "docs = [\n",
        "    Document(\n",
        "        page_content=\"A bunch of scientists bring back dinosaurs and mayhem breaks loose\",\n",
        "        metadata={\"year\": 1993, \"rating\": 7.7, \"genre\": \"science fiction\"},\n",
        "    ),\n",
        "    Document(\n",
        "        page_content=\"Leo DiCaprio gets lost in a dream within a dream within a dream within a ...\",\n",
        "        metadata={\"year\": 2010, \"director\": \"Christopher Nolan\", \"rating\": 8.2},\n",
        "    ),\n",
        "    Document(\n",
        "        page_content=\"A psychologist / detective gets lost in a series of dreams within dreams within dreams and Inception reused the idea\",\n",
        "        metadata={\"year\": 2006, \"director\": \"Satoshi Kon\", \"rating\": 8.6},\n",
        "    ),\n",
        "    Document(\n",
        "        page_content=\"A bunch of normal-sized women are supremely wholesome and some men pine after them\",\n",
        "        metadata={\"year\": 2019, \"director\": \"Greta Gerwig\", \"rating\": 8.3},\n",
        "    ),\n",
        "    Document(\n",
        "        page_content=\"Toys come alive and have a blast doing so\",\n",
        "        metadata={\"year\": 1995, \"genre\": \"animated\"},\n",
        "    ),\n",
        "    Document(\n",
        "        page_content=\"Three men walk into the Zone, three men walk out of the Zone\",\n",
        "        metadata={\n",
        "            \"year\": 1979,\n",
        "            \"director\": \"Andrei Tarkovsky\",\n",
        "            \"genre\": \"thriller\",\n",
        "            \"rating\": 9.9,\n",
        "        },\n",
        "    ),\n",
        "]\n",
        "vectorstore = Chroma.from_documents(docs, ko_embedding)"
      ],
      "metadata": {
        "id": "7TJLhLfQthCt"
      },
      "execution_count": 29,
      "outputs": []
    },
    {
      "cell_type": "code",
      "source": [
        "from langchain.chains.query_constructor.base import AttributeInfo\n",
        "from langchain.retrievers.self_query.base import SelfQueryRetriever\n",
        "from langchain.chat_models import ChatOpenAI\n",
        "\n",
        "metadata_field_info = [\n",
        "    AttributeInfo(\n",
        "        name=\"genre\",\n",
        "        description=\"The genre of the movie. One of ['science fiction', 'comedy', 'drama', 'thriller', 'romance', 'action', 'animated']\",\n",
        "        type=\"string\",\n",
        "    ),\n",
        "    AttributeInfo(\n",
        "        name=\"year\",\n",
        "        description=\"The year the movie was released\",\n",
        "        type=\"integer\",\n",
        "    ),\n",
        "    AttributeInfo(\n",
        "        name=\"director\",\n",
        "        description=\"The name of the movie director\",\n",
        "        type=\"string\",\n",
        "    ),\n",
        "    AttributeInfo(\n",
        "        name=\"rating\", description=\"A 1-10 rating for the movie\", type=\"float\"\n",
        "    ),\n",
        "]\n",
        "document_content_description = \"Brief summary of a movie\"\n",
        "llm = ChatOpenAI(temperature=0, openai_api_key = \"api_key\")\n",
        "retriever = SelfQueryRetriever.from_llm(\n",
        "    llm,\n",
        "    vectorstore,\n",
        "    document_content_description,\n",
        "    metadata_field_info,\n",
        "    verbose = True\n",
        ")"
      ],
      "metadata": {
        "id": "9x2PsJ9e7tuH"
      },
      "execution_count": 30,
      "outputs": []
    },
    {
      "cell_type": "code",
      "source": [
        "retriever.get_relevant_documents(\"what are some movies rated higher than 8.5\")"
      ],
      "metadata": {
        "id": "foYY4IEA74Dr",
        "colab": {
          "base_uri": "https://localhost:8080/"
        },
        "outputId": "638f4863-865f-46af-b6b9-a939c28f894d"
      },
      "execution_count": 31,
      "outputs": [
        {
          "output_type": "execute_result",
          "data": {
            "text/plain": [
              "[Document(page_content='Three men walk into the Zone, three men walk out of the Zone', metadata={'director': 'Andrei Tarkovsky', 'genre': 'thriller', 'rating': 9.9, 'year': 1979}),\n",
              " Document(page_content='A psychologist / detective gets lost in a series of dreams within dreams within dreams and Inception reused the idea', metadata={'director': 'Satoshi Kon', 'rating': 8.6, 'year': 2006})]"
            ]
          },
          "metadata": {},
          "execution_count": 31
        }
      ]
    },
    {
      "cell_type": "markdown",
      "source": [
        "# 5. Time-weighted vector store Retriever"
      ],
      "metadata": {
        "id": "zQP9iztA8ApB"
      }
    },
    {
      "cell_type": "markdown",
      "source": [
        "Scoring 방법 = *semantic_similarity + (1.0 - decay_rate) ^ hours_passed*"
      ],
      "metadata": {
        "id": "OKEps8vK8GIm"
      }
    },
    {
      "cell_type": "code",
      "source": [
        "!pip install -q faiss-gpu"
      ],
      "metadata": {
        "id": "zKL8WJ_P8UEG",
        "colab": {
          "base_uri": "https://localhost:8080/"
        },
        "outputId": "5595b4d6-6ebc-42d8-b617-6f4dc45fb8be"
      },
      "execution_count": 32,
      "outputs": [
        {
          "output_type": "stream",
          "name": "stdout",
          "text": [
            "\u001b[2K     \u001b[90m━━━━━━━━━━━━━━━━━━━━━━━━━━━━━━━━━━━━━━━━\u001b[0m \u001b[32m85.5/85.5 MB\u001b[0m \u001b[31m7.6 MB/s\u001b[0m eta \u001b[36m0:00:00\u001b[0m\n",
            "\u001b[?25h"
          ]
        }
      ]
    },
    {
      "cell_type": "code",
      "source": [
        "from datetime import datetime, timedelta\n",
        "\n",
        "import faiss\n",
        "from langchain.docstore import InMemoryDocstore\n",
        "from langchain.retrievers import TimeWeightedVectorStoreRetriever\n",
        "from langchain.schema import Document\n",
        "from langchain_community.vectorstores import FAISS\n"
      ],
      "metadata": {
        "id": "uLG48BJY8AEW"
      },
      "execution_count": 33,
      "outputs": []
    },
    {
      "cell_type": "code",
      "source": [
        "# Initialize the vectorstore as empty\n",
        "embedding_size = 768\n",
        "index = faiss.IndexFlatL2(embedding_size)\n",
        "vectorstore = FAISS(ko_embedding, index, InMemoryDocstore({}), {})\n",
        "retriever = TimeWeightedVectorStoreRetriever(\n",
        "    vectorstore=vectorstore, decay_rate=0.99, k=1\n",
        ")"
      ],
      "metadata": {
        "id": "Lv5TtUnK8Mml"
      },
      "execution_count": 34,
      "outputs": []
    },
    {
      "cell_type": "code",
      "source": [
        "yesterday = datetime.now() - timedelta(days=1)\n",
        "retriever.add_documents(\n",
        "    [Document(page_content=\"영어는 훌륭합니다.\", metadata={\"last_accessed_at\": yesterday})]\n",
        ")\n",
        "retriever.add_documents([Document(page_content=\"한국어는 훌륭합니다\")])"
      ],
      "metadata": {
        "id": "vL-HP-9L8OIq",
        "colab": {
          "base_uri": "https://localhost:8080/"
        },
        "outputId": "102bf50f-91bc-4ee5-a6e5-60bf17d4e18e"
      },
      "execution_count": 35,
      "outputs": [
        {
          "output_type": "execute_result",
          "data": {
            "text/plain": [
              "['af4bd04c-b0d3-47ec-8659-4ea5f85db2e2']"
            ]
          },
          "metadata": {},
          "execution_count": 35
        }
      ]
    },
    {
      "cell_type": "code",
      "source": [
        "# \"Hello World\" is returned first because it is most salient, and the decay rate is close to 0., meaning it's still recent enough\n",
        "retriever.get_relevant_documents(\"영어가 좋아요\")"
      ],
      "metadata": {
        "id": "Q6KCbXXV_d4F",
        "colab": {
          "base_uri": "https://localhost:8080/"
        },
        "outputId": "b003a929-6ccb-4095-d647-fd80a051cd63"
      },
      "execution_count": 36,
      "outputs": [
        {
          "output_type": "execute_result",
          "data": {
            "text/plain": [
              "[Document(page_content='한국어는 훌륭합니다', metadata={'last_accessed_at': datetime.datetime(2024, 5, 4, 7, 58, 5, 747670), 'created_at': datetime.datetime(2024, 5, 4, 7, 58, 5, 194929), 'buffer_idx': 1})]"
            ]
          },
          "metadata": {},
          "execution_count": 36
        }
      ]
    },
    {
      "cell_type": "markdown",
      "source": [
        "# 6. Ensemble Retriever"
      ],
      "metadata": {
        "id": "ltRw8HCmmECS"
      }
    },
    {
      "cell_type": "code",
      "source": [
        "!pip install -q langchain pypdf sentence-transformers chromadb langchain-openai faiss-gpu --upgrade --quiet  rank_bm25 > /dev/null"
      ],
      "metadata": {
        "id": "QN9Qk5_LkeQH"
      },
      "execution_count": 37,
      "outputs": []
    },
    {
      "cell_type": "code",
      "source": [
        "from langchain.retrievers import BM25Retriever, EnsembleRetriever\n",
        "from langchain_community.vectorstores import FAISS\n",
        "from langchain.embeddings import HuggingFaceEmbeddings"
      ],
      "metadata": {
        "id": "h7HV_yPpmKdX"
      },
      "execution_count": 38,
      "outputs": []
    },
    {
      "cell_type": "code",
      "source": [
        "model_name = \"jhgan/ko-sbert-nli\"\n",
        "encode_kwargs = {'normalize_embeddings': True}\n",
        "ko_embedding = HuggingFaceEmbeddings(\n",
        "    model_name=model_name,\n",
        "    encode_kwargs=encode_kwargs\n",
        ")"
      ],
      "metadata": {
        "id": "OYhREH6zmMJp"
      },
      "execution_count": 39,
      "outputs": []
    },
    {
      "cell_type": "code",
      "source": [
        "from langchain.text_splitter import RecursiveCharacterTextSplitter\n",
        "from langchain.document_loaders import PyPDFLoader\n",
        "\n",
        "loaders = [\n",
        "    PyPDFLoader(\"/content/drive/MyDrive/Colab Notebooks/LLM 실습/[복지이슈 FOCUS 15ȣ] 경기도 극저신용대출심사모형 개발을 위한 국내 신용정보 활용가능성 탐색.pdf\"),\n",
        "    PyPDFLoader(\"/content/drive/MyDrive/Colab Notebooks/LLM 실습/[이슈리포트 2022-2호] 혁신성장 정책금융 동향.pdf\"),\n",
        "]\n",
        "docs = []\n",
        "for loader in loaders:\n",
        "    docs.extend(loader.load_and_split())\n",
        "\n",
        "text_splitter = RecursiveCharacterTextSplitter(chunk_size=500, chunk_overlap=50)\n",
        "texts = text_splitter.split_documents(docs)"
      ],
      "metadata": {
        "id": "15n17ed7meJI"
      },
      "execution_count": 41,
      "outputs": []
    },
    {
      "cell_type": "code",
      "source": [
        "# initialize the bm25 retriever and faiss retriever\n",
        "bm25_retriever = BM25Retriever.from_documents(texts)\n",
        "bm25_retriever.k = 2\n",
        "\n",
        "\n",
        "\n",
        "embedding = ko_embedding\n",
        "faiss_vectorstore = FAISS.from_documents(texts, ko_embedding)\n",
        "faiss_retriever = faiss_vectorstore.as_retriever(search_kwargs={\"k\": 2})\n",
        "\n",
        "# initialize the ensemble retriever\n",
        "ensemble_retriever = EnsembleRetriever(\n",
        "    retrievers=[bm25_retriever, faiss_retriever], weights=[0.5, 0.5]\n",
        ")"
      ],
      "metadata": {
        "id": "ck2cUaLX4pa3"
      },
      "execution_count": 42,
      "outputs": []
    },
    {
      "cell_type": "code",
      "source": [
        "docs = ensemble_retriever.invoke(\"혁신정책금융과 극저신용대출모형의 차이\")\n",
        "for i in docs:\n",
        "\n",
        "  print(i.metadata)\n",
        "  print(\":\")\n",
        "  print(i.page_content)\n",
        "  print(\"-\"*100)"
      ],
      "metadata": {
        "id": "JcBSDvy3mmlx",
        "colab": {
          "base_uri": "https://localhost:8080/"
        },
        "outputId": "66c2ce5f-7aa4-43dd-d264-f5695cf1b62f"
      },
      "execution_count": 43,
      "outputs": [
        {
          "output_type": "stream",
          "name": "stdout",
          "text": [
            "{'source': '/content/drive/MyDrive/Colab Notebooks/LLM 실습/[이슈리포트 2022-2호] 혁신성장 정책금융 동향.pdf', 'page': 17}\n",
            ":\n",
            "기관 뿐만 아니라 전 금융권으로 혁신기업에 대한 금융지원을 확대할 필요가 있음 \n",
            "※ 본 보고서의 내용은 작성자 개인의 의견으로서 한국신용정보원의 공식 견해와 다를 수 있습니다 .  \n",
            "   본 보고서를 사용 또는 인용할 경우에는 출처를 명시하시기 바랍니다 .\n",
            "----------------------------------------------------------------------------------------------------\n",
            "{'source': '/content/drive/MyDrive/Colab Notebooks/LLM 실습/[복지이슈 FOCUS 15ȣ] 경기도 극저신용대출심사모형 개발을 위한 국내 신용정보 활용가능성 탐색.pdf', 'page': 4}\n",
            ":\n",
            "현장공감 경기복지재단 05\n",
            "Ⅰ. 경기도 극저신용대출심사모형 개발의 필요성대출의 경우 신용점수 하위 30%( 기존 5등급이하 ) 차주 중 중신용층에게 유리한 공급 \n",
            "개선방안을 제시함 (금융위원회 , 2021)\n",
            "-상대적으로 불량률과 연체율이 높은 7등급 이하 저신용자들은 부실위험이 높다는 이유\n",
            "로 여전히 정부와 금융권의 금융거래 기피대상으로 분류되어 실질적인 대출 혜택이 불\n",
            "가능한 상황이며 저신용 금융취약도민이 거의 유일하게 이용할 수 있는 제도권 금융상\n",
            "품은 극저신용대출사업뿐임 (석희정 외, 2021)\n",
            "내용 1차(2020 년 4월∽) 2차(2020 년 7월∽) 3차(2020 년 10월∽)\n",
            "대출금액긴급(무심사 )(50만 원)\n",
            "일반(심사)(300 만 원)무심사 (50만 원)\n",
            "심사(300만 원)\n",
            "불법사금융 피해자 (최대 300만 원)고금리 이용자 (300만 원)\n",
            "2030 청년(300만 원)\n",
            "심사(300만 원 한도)\n",
            "이자율 연 1%\n",
            "----------------------------------------------------------------------------------------------------\n",
            "{'source': '/content/drive/MyDrive/Colab Notebooks/LLM 실습/[복지이슈 FOCUS 15ȣ] 경기도 극저신용대출심사모형 개발을 위한 국내 신용정보 활용가능성 탐색.pdf', 'page': 10}\n",
            ":\n",
            "현장공감 경기복지재단 11\n",
            "Ⅱ. 국내 신용정보 결합제도를 통한 신용평가모형 운영사례-1990 년대 중반부터 금융소비자에 대한 대출관행이 담보위주에서 무담보 신용기반 대출로 \n",
            "변화하고 , 대출자에 대한 신용평가의 필요성이 증대되면서 개인신용평가모형 도이 본격화\n",
            "-2003 년 카드사태 이후 금융권 정보공유 인프라 3를 구축, 신용조회회사 (CB)의 개인신용\n",
            "평가모형 개발 및 정교화를 통해 개인신용평가체계 구축\n",
            "-개인신용조회기관들은 고객의 금융거래 정보를 활용하여 신용평가점수를 산정하며 기관\n",
            "별 개인신용평점에 반영되는 주요평가요소는 상환이력정보 , 현재부채수준 , 신용거래기\n",
            "준, 신용형태정보로 상이한 비율을 반영하여 평점 산출\n",
            "평가요소반영비중\n",
            "나이스평가정보 (NICE) 코리아크레딧뷰로 (KCB) 서울신용평가정보 (SCI)\n",
            "상환이력정보 37% 24% 35%\n",
            "현재부채수준 23% 28% 30%\n",
            "신용거래기간 12% 15% 13%\n",
            "신용형태정보 28% 33% 22%\n",
            "----------------------------------------------------------------------------------------------------\n",
            "{'source': '/content/drive/MyDrive/Colab Notebooks/LLM 실습/[복지이슈 FOCUS 15ȣ] 경기도 극저신용대출심사모형 개발을 위한 국내 신용정보 활용가능성 탐색.pdf', 'page': 3}\n",
            ":\n",
            "포용금융의 성격\n",
            "-특히 중앙정부에서 실행하는 서민금융대출제도는 주로 신용등급기준 4~6등급에 해당되\n",
            "는 중신용층이 주요 정책대상으로 지원하는 반면, 7등급 이하 극저신용층을 위한 소액\n",
            "대출상품은 지자체 차원에서 경기도 극저신용대출 이외는 전무한 상태\n",
            "-최근 정부와 금융권에서 발표한 중･저신용층을 위한 중금리대출 개선방안도 중신용층의 \n",
            "대출공급 (사잇돌대출 , 민간중금리대출 ) 확대에 집중되어 신용점수 요건을 신설한 사잇돌\n",
            "----------------------------------------------------------------------------------------------------\n"
          ]
        }
      ]
    },
    {
      "cell_type": "code",
      "source": [
        "faiss_vectorstore = FAISS.from_documents(texts, ko_embedding)\n",
        "faiss_retriever = faiss_vectorstore.as_retriever(search_kwargs={\"k\": 4})\n",
        "\n",
        "docs = faiss_retriever.invoke(\"혁신정책금융과 극저신용대출모형의 차이\")\n",
        "for i in docs:\n",
        "\n",
        "  print(i.metadata)\n",
        "  print(\":\")\n",
        "  print(i.page_content)\n",
        "  print(\"-\"*100)"
      ],
      "metadata": {
        "id": "c0Jhox_l6qe2",
        "colab": {
          "base_uri": "https://localhost:8080/"
        },
        "outputId": "1920a140-57f3-4ad9-9b45-795d1708fc0e"
      },
      "execution_count": 44,
      "outputs": [
        {
          "output_type": "stream",
          "name": "stdout",
          "text": [
            "{'source': '/content/drive/MyDrive/Colab Notebooks/LLM 실습/[복지이슈 FOCUS 15ȣ] 경기도 극저신용대출심사모형 개발을 위한 국내 신용정보 활용가능성 탐색.pdf', 'page': 4}\n",
            ":\n",
            "현장공감 경기복지재단 05\n",
            "Ⅰ. 경기도 극저신용대출심사모형 개발의 필요성대출의 경우 신용점수 하위 30%( 기존 5등급이하 ) 차주 중 중신용층에게 유리한 공급 \n",
            "개선방안을 제시함 (금융위원회 , 2021)\n",
            "-상대적으로 불량률과 연체율이 높은 7등급 이하 저신용자들은 부실위험이 높다는 이유\n",
            "로 여전히 정부와 금융권의 금융거래 기피대상으로 분류되어 실질적인 대출 혜택이 불\n",
            "가능한 상황이며 저신용 금융취약도민이 거의 유일하게 이용할 수 있는 제도권 금융상\n",
            "품은 극저신용대출사업뿐임 (석희정 외, 2021)\n",
            "내용 1차(2020 년 4월∽) 2차(2020 년 7월∽) 3차(2020 년 10월∽)\n",
            "대출금액긴급(무심사 )(50만 원)\n",
            "일반(심사)(300 만 원)무심사 (50만 원)\n",
            "심사(300만 원)\n",
            "불법사금융 피해자 (최대 300만 원)고금리 이용자 (300만 원)\n",
            "2030 청년(300만 원)\n",
            "심사(300만 원 한도)\n",
            "이자율 연 1%\n",
            "----------------------------------------------------------------------------------------------------\n",
            "{'source': '/content/drive/MyDrive/Colab Notebooks/LLM 실습/[복지이슈 FOCUS 15ȣ] 경기도 극저신용대출심사모형 개발을 위한 국내 신용정보 활용가능성 탐색.pdf', 'page': 3}\n",
            ":\n",
            "포용금융의 성격\n",
            "-특히 중앙정부에서 실행하는 서민금융대출제도는 주로 신용등급기준 4~6등급에 해당되\n",
            "는 중신용층이 주요 정책대상으로 지원하는 반면, 7등급 이하 극저신용층을 위한 소액\n",
            "대출상품은 지자체 차원에서 경기도 극저신용대출 이외는 전무한 상태\n",
            "-최근 정부와 금융권에서 발표한 중･저신용층을 위한 중금리대출 개선방안도 중신용층의 \n",
            "대출공급 (사잇돌대출 , 민간중금리대출 ) 확대에 집중되어 신용점수 요건을 신설한 사잇돌\n",
            "----------------------------------------------------------------------------------------------------\n",
            "{'source': '/content/drive/MyDrive/Colab Notebooks/LLM 실습/[복지이슈 FOCUS 15ȣ] 경기도 극저신용대출심사모형 개발을 위한 국내 신용정보 활용가능성 탐색.pdf', 'page': 6}\n",
            ":\n",
            "현장공감 경기복지재단 07\n",
            "Ⅰ. 경기도 극저신용대출심사모형 개발의 필요성◯도내 저신용 ･저소득층의 극저신용대출 수요증대에 따라 대출신청 시 금융 및 비\n",
            "금융 정보수집에 기반한 변별력을 갖춘 심사체계 마련이 요구되는 상황\n",
            "-경기극저신용대출은 기존 신용평가체계 (10등급 기준)를 활용하여 신용정보회사 (NICE, \n",
            "KCB) 에서 제공하는 10등급 기준 7등급 이하의 극저신용자를 모집단으로 설정, 극저신\n",
            "용대출 수행기관 (사회연대은행 , 주빌리은행 , 지역자활협회 )을 통해 신청 및 심사절차를 \n",
            "거쳐 최종 대상자를 선정함\n",
            "-현행 극저신용대출 심사기준 (2020) 에 따르면 차주 관련 기초현황점수 (정량지표 , 55점)\n",
            "와 심사점수 (정성지표 , 45점)로 구분되어 있고, 심사기준별 세부심사항목은 인구학적 \n",
            "정보(성별, 연령, 거주지 , 직업, 가구원 , 주거형태 ), 경제상황 (정부지원 여부, 소득유무 ,\n",
            "----------------------------------------------------------------------------------------------------\n",
            "{'source': '/content/drive/MyDrive/Colab Notebooks/LLM 실습/[복지이슈 FOCUS 15ȣ] 경기도 극저신용대출심사모형 개발을 위한 국내 신용정보 활용가능성 탐색.pdf', 'page': 4}\n",
            ":\n",
            "2030 청년(300만 원)\n",
            "심사(300만 원 한도)\n",
            "이자율 연 1%\n",
            "자료: 경기복지재단 사업결과 보고서 내부자료 (2021)<표 1> 2020 년도 경기 극저신용대출 차수별 지원내용\n",
            "◯경기도 극저신용대출사업 참여자는 저신용 부실위험군인 동시에 정부와 금융권 \n",
            "등 제도권 지원으로부터 배제된 금융복지사각지대\n",
            "-1차년도 (’20년) 경기극저신용대출 참여자 특성을 살펴본 결과, 연령분포는 경제활동인\n",
            "구에 해당되는 40대와 50대(각 29.0%, 26.8%) 가 가장 많았고 , 직업유형은 직장인\n",
            "(34.2%) 과 무직(주부 포함, 28.9%) 순으로 나타남\n",
            "-<그림 1> 참여자의 연령분포 (n=58,914) <그림 2> 참여자의 직업구성 (n=30,926)\n",
            "자료: 경기도 극저신용대출사업 참여자 특성 분석(석희정 외, 2021)\n",
            "----------------------------------------------------------------------------------------------------\n"
          ]
        }
      ]
    },
    {
      "cell_type": "code",
      "source": [
        "import os\n",
        "os.environ[\"OPENAI_API_KEY\"] = 'api_key'\n",
        "\n",
        "from langchain.chains import RetrievalQA\n",
        "from langchain_openai import ChatOpenAI\n",
        "\n",
        "openai = ChatOpenAI(model_name=\"gpt-3.5-turbo\", temperature = 0)\n",
        "\n",
        "qa = RetrievalQA.from_chain_type(llm = openai,\n",
        "                                 chain_type = \"stuff\",\n",
        "                                 retriever = ensemble_retriever,\n",
        "                                 return_source_documents = True)\n",
        "\n",
        "query = \"극저신용자 대출의 신용등급\"\n",
        "result = qa(query)\n",
        "print(result['result'])"
      ],
      "metadata": {
        "id": "28vloMiumuY_",
        "colab": {
          "base_uri": "https://localhost:8080/"
        },
        "outputId": "395cdb6b-67a4-45dd-f535-c4a62d20e44c"
      },
      "execution_count": 45,
      "outputs": [
        {
          "output_type": "stream",
          "name": "stderr",
          "text": [
            "/usr/local/lib/python3.10/dist-packages/langchain_core/_api/deprecation.py:119: LangChainDeprecationWarning: The method `Chain.__call__` was deprecated in langchain 0.1.0 and will be removed in 0.2.0. Use invoke instead.\n",
            "  warn_deprecated(\n"
          ]
        },
        {
          "output_type": "stream",
          "name": "stdout",
          "text": [
            "극저신용자 대출의 신용등급은 주로 7등급 이하로 분류됩니다. 이는 일반적인 10등급 기준에서 하위에 해당하는 등급으로, 금융이력이 부족하거나 불량 건이 많은 경우에 해당할 수 있습니다.\n"
          ]
        }
      ]
    },
    {
      "cell_type": "code",
      "source": [
        "for i in result['source_documents']:\n",
        "  print(i.metadata)\n",
        "  print(\"-\"*100)\n",
        "  print(i.page_content)\n",
        "  print(\"-\"*100)"
      ],
      "metadata": {
        "id": "LxPfaF0L0c2I",
        "colab": {
          "base_uri": "https://localhost:8080/"
        },
        "outputId": "baeb9ab4-21dd-4a68-9277-12dfa94a1d85"
      },
      "execution_count": 46,
      "outputs": [
        {
          "output_type": "stream",
          "name": "stdout",
          "text": [
            "{'source': '/content/drive/MyDrive/Colab Notebooks/LLM 실습/[복지이슈 FOCUS 15ȣ] 경기도 극저신용대출심사모형 개발을 위한 국내 신용정보 활용가능성 탐색.pdf', 'page': 11}\n",
            "----------------------------------------------------------------------------------------------------\n",
            "현장공감 경기복지재단 12\n",
            "경기도 극저신용대출심사모형 개발을 위한 국내 신용정보 활용가능성 탐색-2021년 6월말 기준 신용등급 대상자 (47,307,806 명) 가운데 27.1%(12,807.275 명)이 금\n",
            "융이력부족자로 나타났고 , 60대 이상(4,179,087 명), 20대(3,227,319 명), 30대(1,723,466\n",
            "명), 50대(1,450,496 명) 순으로 20대 청년과 60대 이상이 절반 이상을 차지함\n",
            "-더구나 대다수 금융이력부족자들은 700점대의 낮은 신용점수 (CB등급 기준 4~7등급)를 받는 \n",
            "것으로 나타나 금융이력부족군 중 상당수의 저신용 금융취약계층이 분포되어 있음을 확인\n",
            "-결과적으로 금융거래정보 위주의 개인신용평가모형은 금융소외계층에 대한 금융불평등 \n",
            "문제를 지속적으로 양산할 수밖에 없는 한계를 지니고 있어 이들을 위한 더욱 정교하\n",
            "고 공평한 신용평가모형 개발에 대한 요구 증대\n",
            " 평점 전국민대상자금융이력부족자 현황\n",
            "----------------------------------------------------------------------------------------------------\n",
            "{'source': '/content/drive/MyDrive/Colab Notebooks/LLM 실습/[복지이슈 FOCUS 15ȣ] 경기도 극저신용대출심사모형 개발을 위한 국내 신용정보 활용가능성 탐색.pdf', 'page': 6}\n",
            "----------------------------------------------------------------------------------------------------\n",
            "현장공감 경기복지재단 07\n",
            "Ⅰ. 경기도 극저신용대출심사모형 개발의 필요성◯도내 저신용 ･저소득층의 극저신용대출 수요증대에 따라 대출신청 시 금융 및 비\n",
            "금융 정보수집에 기반한 변별력을 갖춘 심사체계 마련이 요구되는 상황\n",
            "-경기극저신용대출은 기존 신용평가체계 (10등급 기준)를 활용하여 신용정보회사 (NICE, \n",
            "KCB) 에서 제공하는 10등급 기준 7등급 이하의 극저신용자를 모집단으로 설정, 극저신\n",
            "용대출 수행기관 (사회연대은행 , 주빌리은행 , 지역자활협회 )을 통해 신청 및 심사절차를 \n",
            "거쳐 최종 대상자를 선정함\n",
            "-현행 극저신용대출 심사기준 (2020) 에 따르면 차주 관련 기초현황점수 (정량지표 , 55점)\n",
            "와 심사점수 (정성지표 , 45점)로 구분되어 있고, 심사기준별 세부심사항목은 인구학적 \n",
            "정보(성별, 연령, 거주지 , 직업, 가구원 , 주거형태 ), 경제상황 (정부지원 여부, 소득유무 ,\n",
            "----------------------------------------------------------------------------------------------------\n",
            "{'source': '/content/drive/MyDrive/Colab Notebooks/LLM 실습/[복지이슈 FOCUS 15ȣ] 경기도 극저신용대출심사모형 개발을 위한 국내 신용정보 활용가능성 탐색.pdf', 'page': 3}\n",
            "----------------------------------------------------------------------------------------------------\n",
            "현장공감 경기복지재단 04\n",
            "경기도 극저신용대출심사모형 개발을 위한 국내 신용정보 활용가능성 탐색Ⅰ 경기도 극저신용대출심사모형 개발의 필요성\n",
            " 모형 개발의 필요성\n",
            "◯코로나 19 여파로 제도권 금융대출을 받을 수 없는 저신용자의 어려움이 가중되\n",
            "는 가운데 경기도는 2020 년부터 극저신용대출사업 추진\n",
            "-2020 년 9월 시점 경기도 7등급 이하 극저신용자 수는 961,323 명(8.0%) 으로 신용등\n",
            "급제에 따른 7등급(619점) 이하 불량건 183,917 명(77.3%), 연체건 82,384 건\n",
            "(33.6%) 을 차지, 신용등급이 낮아질수록 불량률과 연체율이 급격히 증가(KCB, 2021)\n",
            "-경기도는 코로나 19로 생계가 어려워진 취약계층과 현행 제도권 금융서비스를 이용하\n",
            "기 어려워 고금리 ･불법사금융 등의 이용이 불가피한 7등급 이하 극저신용층을 대상으\n",
            "로 소액금융지원을 위해 극저신용대출사업을 본격적으로 추진 중\n",
            "----------------------------------------------------------------------------------------------------\n",
            "{'source': '/content/drive/MyDrive/Colab Notebooks/LLM 실습/[복지이슈 FOCUS 15ȣ] 경기도 극저신용대출심사모형 개발을 위한 국내 신용정보 활용가능성 탐색.pdf', 'page': 4}\n",
            "----------------------------------------------------------------------------------------------------\n",
            "현장공감 경기복지재단 05\n",
            "Ⅰ. 경기도 극저신용대출심사모형 개발의 필요성대출의 경우 신용점수 하위 30%( 기존 5등급이하 ) 차주 중 중신용층에게 유리한 공급 \n",
            "개선방안을 제시함 (금융위원회 , 2021)\n",
            "-상대적으로 불량률과 연체율이 높은 7등급 이하 저신용자들은 부실위험이 높다는 이유\n",
            "로 여전히 정부와 금융권의 금융거래 기피대상으로 분류되어 실질적인 대출 혜택이 불\n",
            "가능한 상황이며 저신용 금융취약도민이 거의 유일하게 이용할 수 있는 제도권 금융상\n",
            "품은 극저신용대출사업뿐임 (석희정 외, 2021)\n",
            "내용 1차(2020 년 4월∽) 2차(2020 년 7월∽) 3차(2020 년 10월∽)\n",
            "대출금액긴급(무심사 )(50만 원)\n",
            "일반(심사)(300 만 원)무심사 (50만 원)\n",
            "심사(300만 원)\n",
            "불법사금융 피해자 (최대 300만 원)고금리 이용자 (300만 원)\n",
            "2030 청년(300만 원)\n",
            "심사(300만 원 한도)\n",
            "이자율 연 1%\n",
            "----------------------------------------------------------------------------------------------------\n"
          ]
        }
      ]
    },
    {
      "cell_type": "code",
      "source": [
        "faiss_vectorstore = FAISS.from_documents(docs, ko_embedding)\n",
        "faiss_retriever = faiss_vectorstore.as_retriever(search_kwargs={\"k\": 4})\n",
        "\n",
        "qa = RetrievalQA.from_chain_type(llm = openai,\n",
        "                                 chain_type = \"stuff\",\n",
        "                                 retriever = faiss_retriever,\n",
        "                                 return_source_documents = True)\n",
        "\n",
        "query = \"극저신용자 대출의 신용등급\"\n",
        "result = qa(query)\n",
        "print(result['result'])"
      ],
      "metadata": {
        "id": "bxftciR52lYW",
        "colab": {
          "base_uri": "https://localhost:8080/"
        },
        "outputId": "0ae3aa84-b7bb-4cf8-b37e-fb0176af3496"
      },
      "execution_count": 47,
      "outputs": [
        {
          "output_type": "stream",
          "name": "stdout",
          "text": [
            "극저신용자 대출의 경우, 일반적으로 7등급 이하의 신용등급을 가진 사람들이 해당됩니다. 이는 기존의 10등급 기준에서 7등급 이하로 분류된 극저신용자를 대상으로 하는 것으로 보입니다.\n"
          ]
        }
      ]
    },
    {
      "cell_type": "code",
      "source": [
        "for i in result['source_documents']:\n",
        "  print(i.metadata)\n",
        "  print(\"-\"*100)\n",
        "  print(i.page_content)\n",
        "  print(\"-\"*100)"
      ],
      "metadata": {
        "id": "kId5kM9H3LxY",
        "colab": {
          "base_uri": "https://localhost:8080/"
        },
        "outputId": "3facc877-2355-4286-f890-0d940fb2eae2"
      },
      "execution_count": 48,
      "outputs": [
        {
          "output_type": "stream",
          "name": "stdout",
          "text": [
            "{'source': '/content/drive/MyDrive/Colab Notebooks/LLM 실습/[복지이슈 FOCUS 15ȣ] 경기도 극저신용대출심사모형 개발을 위한 국내 신용정보 활용가능성 탐색.pdf', 'page': 6}\n",
            "----------------------------------------------------------------------------------------------------\n",
            "현장공감 경기복지재단 07\n",
            "Ⅰ. 경기도 극저신용대출심사모형 개발의 필요성◯도내 저신용 ･저소득층의 극저신용대출 수요증대에 따라 대출신청 시 금융 및 비\n",
            "금융 정보수집에 기반한 변별력을 갖춘 심사체계 마련이 요구되는 상황\n",
            "-경기극저신용대출은 기존 신용평가체계 (10등급 기준)를 활용하여 신용정보회사 (NICE, \n",
            "KCB) 에서 제공하는 10등급 기준 7등급 이하의 극저신용자를 모집단으로 설정, 극저신\n",
            "용대출 수행기관 (사회연대은행 , 주빌리은행 , 지역자활협회 )을 통해 신청 및 심사절차를 \n",
            "거쳐 최종 대상자를 선정함\n",
            "-현행 극저신용대출 심사기준 (2020) 에 따르면 차주 관련 기초현황점수 (정량지표 , 55점)\n",
            "와 심사점수 (정성지표 , 45점)로 구분되어 있고, 심사기준별 세부심사항목은 인구학적 \n",
            "정보(성별, 연령, 거주지 , 직업, 가구원 , 주거형태 ), 경제상황 (정부지원 여부, 소득유무 ,\n",
            "----------------------------------------------------------------------------------------------------\n",
            "{'source': '/content/drive/MyDrive/Colab Notebooks/LLM 실습/[복지이슈 FOCUS 15ȣ] 경기도 극저신용대출심사모형 개발을 위한 국내 신용정보 활용가능성 탐색.pdf', 'page': 4}\n",
            "----------------------------------------------------------------------------------------------------\n",
            "현장공감 경기복지재단 05\n",
            "Ⅰ. 경기도 극저신용대출심사모형 개발의 필요성대출의 경우 신용점수 하위 30%( 기존 5등급이하 ) 차주 중 중신용층에게 유리한 공급 \n",
            "개선방안을 제시함 (금융위원회 , 2021)\n",
            "-상대적으로 불량률과 연체율이 높은 7등급 이하 저신용자들은 부실위험이 높다는 이유\n",
            "로 여전히 정부와 금융권의 금융거래 기피대상으로 분류되어 실질적인 대출 혜택이 불\n",
            "가능한 상황이며 저신용 금융취약도민이 거의 유일하게 이용할 수 있는 제도권 금융상\n",
            "품은 극저신용대출사업뿐임 (석희정 외, 2021)\n",
            "내용 1차(2020 년 4월∽) 2차(2020 년 7월∽) 3차(2020 년 10월∽)\n",
            "대출금액긴급(무심사 )(50만 원)\n",
            "일반(심사)(300 만 원)무심사 (50만 원)\n",
            "심사(300만 원)\n",
            "불법사금융 피해자 (최대 300만 원)고금리 이용자 (300만 원)\n",
            "2030 청년(300만 원)\n",
            "심사(300만 원 한도)\n",
            "이자율 연 1%\n",
            "----------------------------------------------------------------------------------------------------\n",
            "{'source': '/content/drive/MyDrive/Colab Notebooks/LLM 실습/[복지이슈 FOCUS 15ȣ] 경기도 극저신용대출심사모형 개발을 위한 국내 신용정보 활용가능성 탐색.pdf', 'page': 3}\n",
            "----------------------------------------------------------------------------------------------------\n",
            "포용금융의 성격\n",
            "-특히 중앙정부에서 실행하는 서민금융대출제도는 주로 신용등급기준 4~6등급에 해당되\n",
            "는 중신용층이 주요 정책대상으로 지원하는 반면, 7등급 이하 극저신용층을 위한 소액\n",
            "대출상품은 지자체 차원에서 경기도 극저신용대출 이외는 전무한 상태\n",
            "-최근 정부와 금융권에서 발표한 중･저신용층을 위한 중금리대출 개선방안도 중신용층의 \n",
            "대출공급 (사잇돌대출 , 민간중금리대출 ) 확대에 집중되어 신용점수 요건을 신설한 사잇돌\n",
            "----------------------------------------------------------------------------------------------------\n",
            "{'source': '/content/drive/MyDrive/Colab Notebooks/LLM 실습/[복지이슈 FOCUS 15ȣ] 경기도 극저신용대출심사모형 개발을 위한 국내 신용정보 활용가능성 탐색.pdf', 'page': 4}\n",
            "----------------------------------------------------------------------------------------------------\n",
            "2030 청년(300만 원)\n",
            "심사(300만 원 한도)\n",
            "이자율 연 1%\n",
            "자료: 경기복지재단 사업결과 보고서 내부자료 (2021)<표 1> 2020 년도 경기 극저신용대출 차수별 지원내용\n",
            "◯경기도 극저신용대출사업 참여자는 저신용 부실위험군인 동시에 정부와 금융권 \n",
            "등 제도권 지원으로부터 배제된 금융복지사각지대\n",
            "-1차년도 (’20년) 경기극저신용대출 참여자 특성을 살펴본 결과, 연령분포는 경제활동인\n",
            "구에 해당되는 40대와 50대(각 29.0%, 26.8%) 가 가장 많았고 , 직업유형은 직장인\n",
            "(34.2%) 과 무직(주부 포함, 28.9%) 순으로 나타남\n",
            "-<그림 1> 참여자의 연령분포 (n=58,914) <그림 2> 참여자의 직업구성 (n=30,926)\n",
            "자료: 경기도 극저신용대출사업 참여자 특성 분석(석희정 외, 2021)\n",
            "----------------------------------------------------------------------------------------------------\n"
          ]
        }
      ]
    },
    {
      "cell_type": "markdown",
      "source": [
        "# 7. Long Context Reorder"
      ],
      "metadata": {
        "id": "-YinIRx6_--y"
      }
    },
    {
      "cell_type": "code",
      "source": [
        "from langchain.chains import LLMChain, StuffDocumentsChain\n",
        "from langchain.prompts import PromptTemplate\n",
        "from langchain_community.document_transformers import (\n",
        "    LongContextReorder,\n",
        ")\n",
        "from langchain_community.embeddings import HuggingFaceEmbeddings\n",
        "from langchain_community.vectorstores import Chroma\n",
        "from langchain_openai import OpenAI\n",
        "\n",
        "texts = [\n",
        "    \"바스켓볼은 훌륭한 스포츠입니다.\",\n",
        "    \"플라이 미 투 더 문은 제가 가장 좋아하는 노래 중 하나입니다.\",\n",
        "    \"셀틱스는 제가 가장 좋아하는 팀입니다.\",\n",
        "    \"보스턴 셀틱스에 관한 문서입니다.\", \"보스턴 셀틱스는 제가 가장 좋아하는 팀입니다.\",\n",
        "    \"저는 영화 보러 가는 것을 좋아해요\",\n",
        "    \"보스턴 셀틱스가 20점차로 이겼어요\",\n",
        "    \"이것은 그냥 임의의 텍스트입니다.\",\n",
        "    \"엘든 링은 지난 15 년 동안 최고의 게임 중 하나입니다.\",\n",
        "    \"L. 코넷은 최고의 셀틱스 선수 중 한 명입니다.\",\n",
        "    \"래리 버드는 상징적 인 NBA 선수였습니다.\",\n",
        "]\n",
        "\n",
        "# Create a retriever\n",
        "retriever = Chroma.from_texts(texts, embedding=ko_embedding).as_retriever(\n",
        "    search_kwargs={\"k\": 10}\n",
        ")\n",
        "query = \"셀틱스에 대해 어떤 이야기를 들려주시겠어요?\"\n",
        "\n",
        "# Get relevant documents ordered by relevance score\n",
        "docs = retriever.get_relevant_documents(query)\n",
        "docs"
      ],
      "metadata": {
        "id": "53bnfKrCAPxj",
        "colab": {
          "base_uri": "https://localhost:8080/"
        },
        "outputId": "930bc4c8-61eb-40db-9506-24ef441aed69"
      },
      "execution_count": 53,
      "outputs": [
        {
          "output_type": "execute_result",
          "data": {
            "text/plain": [
              "[Document(page_content='보스턴 셀틱스에 관한 문서입니다.'),\n",
              " Document(page_content='윤정민 기자(alpaca@newsis.com)\\n\\n\\n\\n\\n기자 프로필\\n\\n\\n\\n\\n\\n\\n\\n\\n\\n\\n\\n\\n\\n\\n\\n\\n\\n\\n\\n\\n윤정민 기자\\n\\n\\n\\n\\n\\nTALK\\n\\n유익하고 소중한 제보를 기다려요!\\n제보\\n\\n닫기\\n\\n\\n\\n\\n구독\\n\\n\\n구독중\\n\\n\\n\\n\\n\\n구독자 0\\n\\n\\n\\n\\n응원수\\n0\\n\\n\\n\\n\\n\\n\\n\\nOTT, 통신, AI, 과학 등 IT의 모든 것을 취재합니다. 많이 배우고 듣겠습니다.\\n\\n\\n\\n\\n야구 유료 중계 오늘 시작인데…스포츠팬 78% \"OTT 유료 중계, 싫다\"\\n\\n\\n\"iOS에 들어갈 AI는 어디?\"…애플-오픈AI, 아이폰용 AI 도입 재논의', metadata={'language': 'ko', 'source': 'https://n.news.naver.com/mnews/article/003/0012317114?sid=105', 'title': \"언팩 D-4, 세계 최초 AI폰 '갤S24' 이렇게 나온다\"}),\n",
              " Document(page_content='언론사를 함께 구독중입니다.\\n\\t\\t\\t\\t\\t\\t\\t\\t\\t\\t\\t\\t\\t\\t\\t\\t\\t\\n\\n\\n\\n\\n\\n\\n\\n\\n“여기 가면 류현진 볼까?”...한화이글스 특화 편의점 나왔다는데\\n매일경제\\n1일전\\n\\n\\n\\n\\n\\n\\n\\n더보기\\n\\n\\n\\n\\n\\n\\n\\n\\n\\n새로보기\\n\\n\\n\\n\\n\\n함께 볼만한 뉴스\\n안내\\n\\n이 기사를 본 이용자들이 함께 많이 본 기사, 해당 기사와 유사한 기사, 관심 기사 등을 자동 추천합니다\\n닫기', metadata={'language': 'ko', 'source': 'https://n.news.naver.com/mnews/article/003/0012317114?sid=105', 'title': \"언팩 D-4, 세계 최초 AI폰 '갤S24' 이렇게 나온다\"}),\n",
              " Document(page_content=\"언팩 D-4, 세계 최초 AI폰 '갤S24' 이렇게 나온다\\n\\n\\n\\n\\n\\n\\n\\n\\n\\n\\n\\n\\n\\n본문 바로가기\\n\\n\\n\\n\\n\\n\\nNAVER\\n\\n뉴스\\n\\n\\n연예\\n\\n\\n\\n\\n스포츠\\n\\n\\n\\n\\n날씨\\n\\n\\n\\n\\n프리미엄\\n\\n\\n\\n\\n\\n\\n\\n\\n\\n\\n검색\\n\\n\\n\\n\\n\\n\\n\\n\\n\\n\\n언론사별\\n\\n\\n정치\\n\\n\\n경제\\n\\n\\n사회\\n\\n\\n생활/문화\\n\\n\\nIT/과학\\n\\n\\n세계\\n\\n\\n랭킹\\n\\n\\n신문보기\\n\\n\\n오피니언\\n\\n\\nTV\\n\\n\\n팩트체크\\n\\n\\n알고리즘 안내\\n\\n\\n정정보도 모음\\n\\n\\n\\n\\n\\n\\n\\n\\n\\n\\n\\n\\n\\n\\n\\n\\n\\n\\n\\n구독\", metadata={'language': 'ko', 'source': 'https://n.news.naver.com/mnews/article/003/0012317114?sid=105', 'title': \"언팩 D-4, 세계 최초 AI폰 '갤S24' 이렇게 나온다\"}),\n",
              " Document(page_content='셀틱스는 제가 가장 좋아하는 팀입니다.'),\n",
              " Document(page_content='L. 코넷은 최고의 셀틱스 선수 중 한 명입니다.'),\n",
              " Document(page_content='주요뉴스해당 언론사에서 선정하며 언론사 페이지(아웃링크)로 이동해 볼 수 있습니다.\\n\\n\\n한소희 \"프랑스 대학 붙고도 6천만원 없어서 못가\"\\n윤지연 아나운서, 둘째 임신중 식당서 돌연 실신\\n이영애 독극물 사건, 남편 내연녀 유력 용의자로\\n\\'코 수술\\' 고은아, 2차 수술 욕심 \"코끝 올라갔으면\"\\n김보성, 아들과 절연…차남 \"부모와 따로 살아\"\\n\\n\\n\\n\\n\\n\\n\\n\\n이 기사를 추천합니다\\n\\n\\n기사 추천은 24시간 내 50회까지 참여할 수 있습니다.\\n닫기\\n\\n\\n\\n\\n\\n\\n쏠쏠정보\\n0\\n\\n\\n\\n\\n흥미진진\\n0\\n\\n\\n\\n\\n공감백배\\n0\\n\\n\\n\\n\\n분석탁월\\n0', metadata={'language': 'ko', 'source': 'https://n.news.naver.com/mnews/article/003/0012317114?sid=105', 'title': \"언팩 D-4, 세계 최초 AI폰 '갤S24' 이렇게 나온다\"}),\n",
              " Document(page_content='이것은 그냥 임의의 텍스트입니다.'),\n",
              " Document(page_content='기준 오닉스 블랙, 마블 그레이, 코발트 바이올렛, 앰버 옐로우 등 4가지이며 울트라는 티타늄 블랙, 티타늄 그레이, 티타늄 바이올렛, 티타늄 옐로우 등 4가지가 될 것으로 예상된다. 이 밖에 삼성닷컴 판매 한정으로 티타늄 그린, 티타늄 블루, 티타늄 오렌지도 추가될 전망이다.국내 출고가 일반·플러스 동결, 울트라 약 10만원 인상될 듯…19일 사전예약소비자 입장에서 제일 궁금한 건 가격과 사전 예약 혜택이다.일반형, 플러스 모델(256GB 기준) 가격은 전작과 같을 것으로 전망된다. 256GB 용량 기준 일반형과 플러스 모델', metadata={'language': 'ko', 'source': 'https://n.news.naver.com/mnews/article/003/0012317114?sid=105', 'title': \"언팩 D-4, 세계 최초 AI폰 '갤S24' 이렇게 나온다\"}),\n",
              " Document(page_content='한층 진화된 AI 서비스로 새로운 스마트폰 기준을 제시할 것으로 전망된다.업계 모두가 스마트폰 시장 선두 주자인 삼성전자의 신작을 궁금해하는 만큼 공신력 있는 IT 팁스터(정보유출자)들이 여러 정보를 유출했다. 14일 현재까지 삼성전자가 공개한 스마트폰 신작 정보와 업계에 유출된 내용을 종합해 갤럭시 S24 예상 사양을 정리해 봤다.\"손안에 만능 비서 담았다\"…인터넷 연결 없어도 AI 쓸 수 있는 \\'온디바이스 AI폰\\'', metadata={'language': 'ko', 'source': 'https://n.news.naver.com/mnews/article/003/0012317114?sid=105', 'title': \"언팩 D-4, 세계 최초 AI폰 '갤S24' 이렇게 나온다\"})]"
            ]
          },
          "metadata": {},
          "execution_count": 53
        }
      ]
    },
    {
      "cell_type": "code",
      "source": [
        "reordering = LongContextReorder()\n",
        "reordered_docs = reordering.transform_documents(docs)\n",
        "\n",
        "# Confirm that the 4 relevant documents are at beginning and end.\n",
        "reordered_docs"
      ],
      "metadata": {
        "id": "x_9sEUx0AX9h",
        "colab": {
          "base_uri": "https://localhost:8080/"
        },
        "outputId": "94e34cb8-6a25-49ae-a32f-4aa8879c311a"
      },
      "execution_count": 54,
      "outputs": [
        {
          "output_type": "execute_result",
          "data": {
            "text/plain": [
              "[Document(page_content='윤정민 기자(alpaca@newsis.com)\\n\\n\\n\\n\\n기자 프로필\\n\\n\\n\\n\\n\\n\\n\\n\\n\\n\\n\\n\\n\\n\\n\\n\\n\\n\\n\\n\\n윤정민 기자\\n\\n\\n\\n\\n\\nTALK\\n\\n유익하고 소중한 제보를 기다려요!\\n제보\\n\\n닫기\\n\\n\\n\\n\\n구독\\n\\n\\n구독중\\n\\n\\n\\n\\n\\n구독자 0\\n\\n\\n\\n\\n응원수\\n0\\n\\n\\n\\n\\n\\n\\n\\nOTT, 통신, AI, 과학 등 IT의 모든 것을 취재합니다. 많이 배우고 듣겠습니다.\\n\\n\\n\\n\\n야구 유료 중계 오늘 시작인데…스포츠팬 78% \"OTT 유료 중계, 싫다\"\\n\\n\\n\"iOS에 들어갈 AI는 어디?\"…애플-오픈AI, 아이폰용 AI 도입 재논의', metadata={'language': 'ko', 'source': 'https://n.news.naver.com/mnews/article/003/0012317114?sid=105', 'title': \"언팩 D-4, 세계 최초 AI폰 '갤S24' 이렇게 나온다\"}),\n",
              " Document(page_content=\"언팩 D-4, 세계 최초 AI폰 '갤S24' 이렇게 나온다\\n\\n\\n\\n\\n\\n\\n\\n\\n\\n\\n\\n\\n\\n본문 바로가기\\n\\n\\n\\n\\n\\n\\nNAVER\\n\\n뉴스\\n\\n\\n연예\\n\\n\\n\\n\\n스포츠\\n\\n\\n\\n\\n날씨\\n\\n\\n\\n\\n프리미엄\\n\\n\\n\\n\\n\\n\\n\\n\\n\\n\\n검색\\n\\n\\n\\n\\n\\n\\n\\n\\n\\n\\n언론사별\\n\\n\\n정치\\n\\n\\n경제\\n\\n\\n사회\\n\\n\\n생활/문화\\n\\n\\nIT/과학\\n\\n\\n세계\\n\\n\\n랭킹\\n\\n\\n신문보기\\n\\n\\n오피니언\\n\\n\\nTV\\n\\n\\n팩트체크\\n\\n\\n알고리즘 안내\\n\\n\\n정정보도 모음\\n\\n\\n\\n\\n\\n\\n\\n\\n\\n\\n\\n\\n\\n\\n\\n\\n\\n\\n\\n구독\", metadata={'language': 'ko', 'source': 'https://n.news.naver.com/mnews/article/003/0012317114?sid=105', 'title': \"언팩 D-4, 세계 최초 AI폰 '갤S24' 이렇게 나온다\"}),\n",
              " Document(page_content='L. 코넷은 최고의 셀틱스 선수 중 한 명입니다.'),\n",
              " Document(page_content='이것은 그냥 임의의 텍스트입니다.'),\n",
              " Document(page_content='한층 진화된 AI 서비스로 새로운 스마트폰 기준을 제시할 것으로 전망된다.업계 모두가 스마트폰 시장 선두 주자인 삼성전자의 신작을 궁금해하는 만큼 공신력 있는 IT 팁스터(정보유출자)들이 여러 정보를 유출했다. 14일 현재까지 삼성전자가 공개한 스마트폰 신작 정보와 업계에 유출된 내용을 종합해 갤럭시 S24 예상 사양을 정리해 봤다.\"손안에 만능 비서 담았다\"…인터넷 연결 없어도 AI 쓸 수 있는 \\'온디바이스 AI폰\\'', metadata={'language': 'ko', 'source': 'https://n.news.naver.com/mnews/article/003/0012317114?sid=105', 'title': \"언팩 D-4, 세계 최초 AI폰 '갤S24' 이렇게 나온다\"}),\n",
              " Document(page_content='기준 오닉스 블랙, 마블 그레이, 코발트 바이올렛, 앰버 옐로우 등 4가지이며 울트라는 티타늄 블랙, 티타늄 그레이, 티타늄 바이올렛, 티타늄 옐로우 등 4가지가 될 것으로 예상된다. 이 밖에 삼성닷컴 판매 한정으로 티타늄 그린, 티타늄 블루, 티타늄 오렌지도 추가될 전망이다.국내 출고가 일반·플러스 동결, 울트라 약 10만원 인상될 듯…19일 사전예약소비자 입장에서 제일 궁금한 건 가격과 사전 예약 혜택이다.일반형, 플러스 모델(256GB 기준) 가격은 전작과 같을 것으로 전망된다. 256GB 용량 기준 일반형과 플러스 모델', metadata={'language': 'ko', 'source': 'https://n.news.naver.com/mnews/article/003/0012317114?sid=105', 'title': \"언팩 D-4, 세계 최초 AI폰 '갤S24' 이렇게 나온다\"}),\n",
              " Document(page_content='주요뉴스해당 언론사에서 선정하며 언론사 페이지(아웃링크)로 이동해 볼 수 있습니다.\\n\\n\\n한소희 \"프랑스 대학 붙고도 6천만원 없어서 못가\"\\n윤지연 아나운서, 둘째 임신중 식당서 돌연 실신\\n이영애 독극물 사건, 남편 내연녀 유력 용의자로\\n\\'코 수술\\' 고은아, 2차 수술 욕심 \"코끝 올라갔으면\"\\n김보성, 아들과 절연…차남 \"부모와 따로 살아\"\\n\\n\\n\\n\\n\\n\\n\\n\\n이 기사를 추천합니다\\n\\n\\n기사 추천은 24시간 내 50회까지 참여할 수 있습니다.\\n닫기\\n\\n\\n\\n\\n\\n\\n쏠쏠정보\\n0\\n\\n\\n\\n\\n흥미진진\\n0\\n\\n\\n\\n\\n공감백배\\n0\\n\\n\\n\\n\\n분석탁월\\n0', metadata={'language': 'ko', 'source': 'https://n.news.naver.com/mnews/article/003/0012317114?sid=105', 'title': \"언팩 D-4, 세계 최초 AI폰 '갤S24' 이렇게 나온다\"}),\n",
              " Document(page_content='셀틱스는 제가 가장 좋아하는 팀입니다.'),\n",
              " Document(page_content='언론사를 함께 구독중입니다.\\n\\t\\t\\t\\t\\t\\t\\t\\t\\t\\t\\t\\t\\t\\t\\t\\t\\t\\n\\n\\n\\n\\n\\n\\n\\n\\n“여기 가면 류현진 볼까?”...한화이글스 특화 편의점 나왔다는데\\n매일경제\\n1일전\\n\\n\\n\\n\\n\\n\\n\\n더보기\\n\\n\\n\\n\\n\\n\\n\\n\\n\\n새로보기\\n\\n\\n\\n\\n\\n함께 볼만한 뉴스\\n안내\\n\\n이 기사를 본 이용자들이 함께 많이 본 기사, 해당 기사와 유사한 기사, 관심 기사 등을 자동 추천합니다\\n닫기', metadata={'language': 'ko', 'source': 'https://n.news.naver.com/mnews/article/003/0012317114?sid=105', 'title': \"언팩 D-4, 세계 최초 AI폰 '갤S24' 이렇게 나온다\"}),\n",
              " Document(page_content='보스턴 셀틱스에 관한 문서입니다.')]"
            ]
          },
          "metadata": {},
          "execution_count": 54
        }
      ]
    },
    {
      "cell_type": "code",
      "source": [
        "from langchain.chains import LLMChain, StuffDocumentsChain\n",
        "from langchain.prompts import PromptTemplate\n",
        "import os\n",
        "os.environ[\"OPENAI_API_KEY\"] = 'api_key'\n",
        "\n",
        "from langchain.chains import RetrievalQA\n",
        "from langchain_openai import ChatOpenAI\n",
        "\n",
        "document_prompt = PromptTemplate(\n",
        "    input_variables=[\"page_content\"], template=\"{page_content}\"\n",
        ")\n",
        "\n",
        "template = \"\"\"Given this text extracts:\n",
        "-----\n",
        "{context}\n",
        "-----\n",
        "Please answer the following question:\n",
        "{query}\"\"\"\n",
        "prompt = PromptTemplate(\n",
        "    template=template, input_variables=[\"context\", \"query\"]\n",
        ")\n",
        "openai = ChatOpenAI(model_name=\"gpt-3.5-turbo\", temperature = 0)\n",
        "\n",
        "llm_chain = LLMChain(llm=openai, prompt=prompt)\n",
        "chain = StuffDocumentsChain(\n",
        "    llm_chain=llm_chain,\n",
        "    document_prompt=document_prompt,\n",
        "    document_variable_name=\"context\"\n",
        ")\n"
      ],
      "metadata": {
        "id": "jxdYbGqgA4Sf",
        "colab": {
          "base_uri": "https://localhost:8080/"
        },
        "outputId": "3057f6fc-3517-40fc-c9e7-207cc1210bdc"
      },
      "execution_count": 55,
      "outputs": [
        {
          "output_type": "stream",
          "name": "stderr",
          "text": [
            "/usr/local/lib/python3.10/dist-packages/langchain_core/_api/deprecation.py:119: LangChainDeprecationWarning: The class `LLMChain` was deprecated in LangChain 0.1.17 and will be removed in 0.3.0. Use RunnableSequence, e.g., `prompt | llm` instead.\n",
            "  warn_deprecated(\n"
          ]
        }
      ]
    },
    {
      "cell_type": "code",
      "source": [
        "reordered_result = chain.run(input_documents=reordered_docs, query=query)\n",
        "result = chain.run(input_documents=docs, query=query)\n",
        "\n",
        "print(reordered_result)\n",
        "print(\"-\"*100)\n",
        "print(result)"
      ],
      "metadata": {
        "id": "Cn0oLiy3D_WR",
        "colab": {
          "base_uri": "https://localhost:8080/"
        },
        "outputId": "75303017-7cfa-4dbc-eda4-5d33aaf0d14e"
      },
      "execution_count": 56,
      "outputs": [
        {
          "output_type": "stream",
          "name": "stderr",
          "text": [
            "/usr/local/lib/python3.10/dist-packages/langchain_core/_api/deprecation.py:119: LangChainDeprecationWarning: The method `Chain.run` was deprecated in langchain 0.1.0 and will be removed in 0.2.0. Use invoke instead.\n",
            "  warn_deprecated(\n"
          ]
        },
        {
          "output_type": "stream",
          "name": "stdout",
          "text": [
            "셀틱스는 제가 가장 좋아하는 팀입니다.\n",
            "----------------------------------------------------------------------------------------------------\n",
            "셀틱스는 제가 가장 좋아하는 팀이며, L. 코넷은 최고의 셀틱스 선수 중 한 명이라고 이야기하고 있습니다.\n"
          ]
        }
      ]
    }
  ]
}